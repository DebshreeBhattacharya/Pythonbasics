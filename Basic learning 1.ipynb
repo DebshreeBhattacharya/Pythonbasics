{
 "cells": [
  {
   "cell_type": "markdown",
   "id": "08168ad8",
   "metadata": {},
   "source": [
    "# Basic print"
   ]
  },
  {
   "cell_type": "code",
   "execution_count": 2,
   "id": "b776d6be",
   "metadata": {},
   "outputs": [
    {
     "name": "stdout",
     "output_type": "stream",
     "text": [
      "hello\n"
     ]
    }
   ],
   "source": [
    "print('hello')"
   ]
  },
  {
   "cell_type": "code",
   "execution_count": 2,
   "id": "7b4013eb",
   "metadata": {},
   "outputs": [
    {
     "ename": "SyntaxError",
     "evalue": "Missing parentheses in call to 'print'. Did you mean print(1)? (2006075915.py, line 1)",
     "output_type": "error",
     "traceback": [
      "\u001b[1;36m  Input \u001b[1;32mIn [2]\u001b[1;36m\u001b[0m\n\u001b[1;33m    print 1\u001b[0m\n\u001b[1;37m          ^\u001b[0m\n\u001b[1;31mSyntaxError\u001b[0m\u001b[1;31m:\u001b[0m Missing parentheses in call to 'print'. Did you mean print(1)?\n"
     ]
    }
   ],
   "source": [
    "print 1"
   ]
  },
  {
   "cell_type": "code",
   "execution_count": 3,
   "id": "4ded81ee",
   "metadata": {},
   "outputs": [
    {
     "name": "stdout",
     "output_type": "stream",
     "text": [
      "1\n"
     ]
    }
   ],
   "source": [
    "print (1)"
   ]
  },
  {
   "cell_type": "code",
   "execution_count": 12,
   "id": "8b97581d",
   "metadata": {
    "ExecuteTime": {
     "end_time": "2022-09-23T08:38:34.932532Z",
     "start_time": "2022-09-23T08:38:34.913390Z"
    }
   },
   "outputs": [
    {
     "name": "stdout",
     "output_type": "stream",
     "text": [
      "Python is awesome\n"
     ]
    }
   ],
   "source": [
    "x = \"awesome\"\n",
    "\n",
    "def myfunc():\n",
    "  print(\"Python is \" + x)\n",
    "\n",
    "myfunc()"
   ]
  },
  {
   "cell_type": "code",
   "execution_count": 11,
   "id": "056ff9bc",
   "metadata": {
    "ExecuteTime": {
     "end_time": "2022-09-23T08:35:24.935508Z",
     "start_time": "2022-09-23T08:35:24.919064Z"
    }
   },
   "outputs": [
    {
     "name": "stdout",
     "output_type": "stream",
     "text": [
      "Python is awesome\n"
     ]
    }
   ],
   "source": [
    "x = \"Python \"\n",
    "y = \"is \"\n",
    "z = \"awesome\"\n",
    "print(x + y + z)"
   ]
  },
  {
   "cell_type": "code",
   "execution_count": 13,
   "id": "97498595",
   "metadata": {
    "ExecuteTime": {
     "end_time": "2022-09-23T08:39:08.633731Z",
     "start_time": "2022-09-23T08:39:08.616872Z"
    }
   },
   "outputs": [
    {
     "name": "stdout",
     "output_type": "stream",
     "text": [
      "Python is fantastic\n",
      "Python is awesome\n"
     ]
    }
   ],
   "source": [
    "x = \"awesome\"\n",
    "\n",
    "def myfunc():\n",
    "  x = \"fantastic\"\n",
    "  print(\"Python is \" + x)\n",
    "\n",
    "myfunc()\n",
    "\n",
    "print(\"Python is \" + x)"
   ]
  },
  {
   "cell_type": "markdown",
   "id": "7ccb79e5",
   "metadata": {},
   "source": [
    "# basic addition"
   ]
  },
  {
   "cell_type": "code",
   "execution_count": 5,
   "id": "7f73a394",
   "metadata": {},
   "outputs": [
    {
     "data": {
      "text/plain": [
       "25"
      ]
     },
     "execution_count": 5,
     "metadata": {},
     "output_type": "execute_result"
    }
   ],
   "source": [
    "10+15"
   ]
  },
  {
   "cell_type": "code",
   "execution_count": 4,
   "id": "62be71c4",
   "metadata": {},
   "outputs": [
    {
     "name": "stdout",
     "output_type": "stream",
     "text": [
      "welcome\n"
     ]
    }
   ],
   "source": [
    "print ('welcome')"
   ]
  },
  {
   "cell_type": "code",
   "execution_count": 6,
   "id": "cba1cc57",
   "metadata": {},
   "outputs": [
    {
     "data": {
      "text/plain": [
       "8552"
      ]
     },
     "execution_count": 6,
     "metadata": {},
     "output_type": "execute_result"
    }
   ],
   "source": [
    "2550+2350+3652"
   ]
  },
  {
   "cell_type": "code",
   "execution_count": 7,
   "id": "e21b73ec",
   "metadata": {},
   "outputs": [
    {
     "name": "stdout",
     "output_type": "stream",
     "text": [
      "56.3\n"
     ]
    }
   ],
   "source": [
    "x=56.3\n",
    "print (x)"
   ]
  },
  {
   "cell_type": "code",
   "execution_count": 9,
   "id": "1b2eb868",
   "metadata": {},
   "outputs": [
    {
     "name": "stdout",
     "output_type": "stream",
     "text": [
      "hello\n"
     ]
    }
   ],
   "source": [
    "y=\"hello\"\n",
    "print (y)"
   ]
  },
  {
   "cell_type": "code",
   "execution_count": 10,
   "id": "9c86d830",
   "metadata": {},
   "outputs": [
    {
     "data": {
      "text/plain": [
       "float"
      ]
     },
     "execution_count": 10,
     "metadata": {},
     "output_type": "execute_result"
    }
   ],
   "source": [
    "type (x)"
   ]
  },
  {
   "cell_type": "markdown",
   "id": "11467425",
   "metadata": {},
   "source": [
    "# Get the Type"
   ]
  },
  {
   "cell_type": "code",
   "execution_count": 10,
   "id": "27612ea2",
   "metadata": {
    "ExecuteTime": {
     "end_time": "2022-09-23T08:32:09.847394Z",
     "start_time": "2022-09-23T08:32:09.829158Z"
    }
   },
   "outputs": [
    {
     "name": "stdout",
     "output_type": "stream",
     "text": [
      "<class 'int'>\n",
      "<class 'str'>\n"
     ]
    }
   ],
   "source": [
    "x = 5\n",
    "y = \"John\"\n",
    "print(type(x))\n",
    "print(type(y))"
   ]
  },
  {
   "cell_type": "markdown",
   "id": "69ec82e2",
   "metadata": {},
   "source": [
    "# Built-in Data Types"
   ]
  },
  {
   "cell_type": "markdown",
   "id": "50a7de62",
   "metadata": {},
   "source": [
    "In programming, data type is an important concept.\n",
    "\n",
    "Variables can store data of different types, and different types can do different things.\n",
    "\n",
    "Python has the following data types built-in by default, in these categories:\n",
    "\n",
    "Text Type:\tstr\n",
    "\n",
    "Numeric Types:\tint, float, complex\n",
    "\n",
    "Sequence Types:\tlist, tuple, range\n",
    "\n",
    "Mapping Type:\tdict\n",
    "\n",
    "Set Types:\tset, frozenset\n",
    "\n",
    "Boolean Type:\tbool\n",
    "\n",
    "Binary Types:\tbytes, bytearray, memoryview\n",
    "\n",
    "None Type:\tNoneType"
   ]
  },
  {
   "cell_type": "markdown",
   "id": "a51983a1",
   "metadata": {},
   "source": [
    "## Setting the Data Type"
   ]
  },
  {
   "cell_type": "markdown",
   "id": "7a754cb4",
   "metadata": {
    "ExecuteTime": {
     "end_time": "2022-09-23T08:46:33.979917Z",
     "start_time": "2022-09-23T08:46:33.966793Z"
    }
   },
   "source": [
    "x = \"Hello World\"                             #str\n",
    "x = 20                                      # int\n",
    "x = 20.5                                \t#float\t\n",
    "x = 1j                                   \tcomplex\t\n",
    "x = [\"apple\", \"banana\", \"cherry\"]        \tlist\t\n",
    "x = (\"apple\", \"banana\", \"cherry\")          \ttuple\t\n",
    "x = range(6)                               \trange\t\n",
    "x = {\"name\" : \"John\", \"age\" : 36}        \tdict\t\n",
    "x = {\"apple\", \"banana\", \"cherry\"}           \tset\t\n",
    "x = frozenset({\"apple\", \"banana\", \"cherry\"}) \tfrozenset\t\n",
    "x = True                                    \tbool\t\n",
    "x = b\"Hello\"                                  \tbytes\t\n",
    "x = bytearray(5)                           \tbytearray\t\n",
    "x = memoryview(bytes(5))                     \tmemoryview\t\n",
    "x = None                                        \tNoneType"
   ]
  },
  {
   "cell_type": "markdown",
   "id": "bb52ed95",
   "metadata": {},
   "source": [
    "## Setting the Specific Data Type"
   ]
  },
  {
   "cell_type": "markdown",
   "id": "b6ec98a4",
   "metadata": {},
   "source": [
    "Example\tData Type\tTry it\n",
    "x = str(\"Hello World\")\t     str\t\n",
    "x = int(20)\t                 int\t\n",
    "x = float(20.5)         \tfloat\t\n",
    "x = complex(1j)             complex\t\n",
    "x = list((\"apple\", \"banana\", \"cherry\"))\t         list\t\n",
    "x = tuple((\"apple\", \"banana\", \"cherry\"))\t     tuple\t\n",
    "x = range(6)\t                                 range\t\n",
    "x = dict(name=\"John\", age=36)\t                 dict\t\n",
    "x = set((\"apple\", \"banana\", \"cherry\"))\t          set\t\n",
    "x = frozenset((\"apple\", \"banana\", \"cherry\"))\tfrozenset\t\n",
    "x = bool(5)                                  \tbool\t\n",
    "x = bytes(5)                                \tbytes\t\n",
    "x = bytearray(5)\t                            bytearray\t\n",
    "x = memoryview(bytes(5))\t                     memoryview"
   ]
  },
  {
   "cell_type": "markdown",
   "id": "144f4f9f",
   "metadata": {},
   "source": [
    "# Python Numbers\n"
   ]
  },
  {
   "cell_type": "markdown",
   "id": "464294fc",
   "metadata": {},
   "source": [
    "There are three numeric types in Python:\n",
    "\n",
    "int\n",
    "\n",
    "float\n",
    "\n",
    "complex\n",
    "\n",
    "Variables of numeric types are created when you assign a value to them:"
   ]
  },
  {
   "cell_type": "code",
   "execution_count": 16,
   "id": "3b015c20",
   "metadata": {
    "ExecuteTime": {
     "end_time": "2022-09-23T08:55:11.384586Z",
     "start_time": "2022-09-23T08:55:11.360279Z"
    }
   },
   "outputs": [
    {
     "name": "stdout",
     "output_type": "stream",
     "text": [
      "<class 'int'>\n",
      "<class 'float'>\n",
      "<class 'complex'>\n"
     ]
    }
   ],
   "source": [
    "x = 1    # int\n",
    "y = 2.8  # float\n",
    "z = 1j   # complex\n",
    "\n",
    "print(type(x))\n",
    "print(type(y))\n",
    "print(type(z))"
   ]
  },
  {
   "cell_type": "markdown",
   "id": "d486f3d2",
   "metadata": {},
   "source": [
    "## Random Number"
   ]
  },
  {
   "cell_type": "code",
   "execution_count": 29,
   "id": "ff890012",
   "metadata": {
    "ExecuteTime": {
     "end_time": "2022-09-23T08:57:34.023576Z",
     "start_time": "2022-09-23T08:57:34.011455Z"
    }
   },
   "outputs": [
    {
     "name": "stdout",
     "output_type": "stream",
     "text": [
      "5\n"
     ]
    }
   ],
   "source": [
    "import random\n",
    "\n",
    "print(random.randrange(1, 10))"
   ]
  },
  {
   "cell_type": "markdown",
   "id": "6a3043e1",
   "metadata": {},
   "source": [
    "## Type Conversion"
   ]
  },
  {
   "cell_type": "code",
   "execution_count": 17,
   "id": "175120c3",
   "metadata": {
    "ExecuteTime": {
     "end_time": "2022-09-23T08:55:50.118579Z",
     "start_time": "2022-09-23T08:55:50.106541Z"
    }
   },
   "outputs": [
    {
     "name": "stdout",
     "output_type": "stream",
     "text": [
      "1.0\n",
      "2\n",
      "(1+0j)\n",
      "<class 'float'>\n",
      "<class 'int'>\n",
      "<class 'complex'>\n"
     ]
    }
   ],
   "source": [
    "x = 1    # int\n",
    "y = 2.8  # float\n",
    "z = 1j   # complex\n",
    "\n",
    "#convert from int to float:\n",
    "a = float(x)\n",
    "\n",
    "#convert from float to int:\n",
    "b = int(y)\n",
    "\n",
    "#convert from int to complex:\n",
    "c = complex(x)\n",
    "\n",
    "print(a)\n",
    "print(b)\n",
    "print(c)\n",
    "\n",
    "print(type(a))\n",
    "print(type(b))\n",
    "print(type(c))"
   ]
  },
  {
   "cell_type": "markdown",
   "id": "177c1e7f",
   "metadata": {},
   "source": [
    "# Python Booleans"
   ]
  },
  {
   "cell_type": "markdown",
   "id": "3d799b72",
   "metadata": {},
   "source": [
    "Boolean Values\n",
    "In programming you often need to know if an expression is True or False.\n",
    "\n",
    "You can evaluate any expression in Python, and get one of two answers, True or False.\n",
    "\n",
    "When you compare two values, the expression is evaluated and Python returns the Boolean answer:"
   ]
  },
  {
   "cell_type": "code",
   "execution_count": 32,
   "id": "6090bdb6",
   "metadata": {
    "ExecuteTime": {
     "end_time": "2022-09-23T14:55:49.038787Z",
     "start_time": "2022-09-23T14:55:49.024320Z"
    }
   },
   "outputs": [
    {
     "name": "stdout",
     "output_type": "stream",
     "text": [
      "True\n",
      "False\n",
      "False\n"
     ]
    }
   ],
   "source": [
    "print(10 > 9)\n",
    "print(10 == 9)\n",
    "print(10 < 9)"
   ]
  },
  {
   "cell_type": "code",
   "execution_count": 33,
   "id": "1590e2a6",
   "metadata": {
    "ExecuteTime": {
     "end_time": "2022-09-23T14:59:21.671447Z",
     "start_time": "2022-09-23T14:59:21.656675Z"
    }
   },
   "outputs": [
    {
     "name": "stdout",
     "output_type": "stream",
     "text": [
      "b is not greater than a\n"
     ]
    }
   ],
   "source": [
    "a = 200\n",
    "b = 33\n",
    "\n",
    "if b > a:\n",
    "  print(\"b is greater than a\")\n",
    "else:\n",
    "  print(\"b is not greater than a\")"
   ]
  },
  {
   "cell_type": "markdown",
   "id": "e97c89e3",
   "metadata": {},
   "source": [
    "The bool() function allows you to evaluate any value, and give you True or False in return,"
   ]
  },
  {
   "cell_type": "code",
   "execution_count": 34,
   "id": "12fef15a",
   "metadata": {
    "ExecuteTime": {
     "end_time": "2022-09-23T15:00:30.497817Z",
     "start_time": "2022-09-23T15:00:30.485792Z"
    }
   },
   "outputs": [
    {
     "name": "stdout",
     "output_type": "stream",
     "text": [
      "True\n",
      "True\n"
     ]
    }
   ],
   "source": [
    "print(bool(\"Hello\"))\n",
    "print(bool(15))"
   ]
  },
  {
   "cell_type": "code",
   "execution_count": 35,
   "id": "f9eeaadf",
   "metadata": {
    "ExecuteTime": {
     "end_time": "2022-09-23T15:01:59.876643Z",
     "start_time": "2022-09-23T15:01:59.865136Z"
    }
   },
   "outputs": [
    {
     "name": "stdout",
     "output_type": "stream",
     "text": [
      "True\n",
      "True\n"
     ]
    }
   ],
   "source": [
    "x = \"Hello\"\n",
    "y = 15\n",
    "\n",
    "print(bool(x))\n",
    "print(bool(y))"
   ]
  },
  {
   "cell_type": "code",
   "execution_count": 37,
   "id": "a90349cb",
   "metadata": {
    "ExecuteTime": {
     "end_time": "2022-09-23T15:03:35.885241Z",
     "start_time": "2022-09-23T15:03:35.873836Z"
    }
   },
   "outputs": [
    {
     "data": {
      "text/plain": [
       "True"
      ]
     },
     "execution_count": 37,
     "metadata": {},
     "output_type": "execute_result"
    }
   ],
   "source": [
    "bool(\"abc\")\n",
    "bool(123)\n",
    "bool([\"apple\", \"cherry\", \"banana\"])\n"
   ]
  },
  {
   "cell_type": "code",
   "execution_count": 38,
   "id": "e69f1b40",
   "metadata": {
    "ExecuteTime": {
     "end_time": "2022-09-23T15:04:03.824140Z",
     "start_time": "2022-09-23T15:04:03.798490Z"
    }
   },
   "outputs": [
    {
     "data": {
      "text/plain": [
       "False"
      ]
     },
     "execution_count": 38,
     "metadata": {},
     "output_type": "execute_result"
    }
   ],
   "source": [
    "bool(False)\n",
    "bool(None)\n",
    "bool(0)\n",
    "bool(\"\")\n",
    "bool(())\n",
    "bool([])\n",
    "bool({})"
   ]
  },
  {
   "cell_type": "code",
   "execution_count": 39,
   "id": "5c9c36e0",
   "metadata": {
    "ExecuteTime": {
     "end_time": "2022-09-23T15:04:52.598516Z",
     "start_time": "2022-09-23T15:04:52.587878Z"
    }
   },
   "outputs": [
    {
     "name": "stdout",
     "output_type": "stream",
     "text": [
      "False\n"
     ]
    }
   ],
   "source": [
    "class myclass():\n",
    "  def __len__(self):\n",
    "    return 0\n",
    "\n",
    "myobj = myclass()\n",
    "print(bool(myobj))"
   ]
  },
  {
   "cell_type": "code",
   "execution_count": 40,
   "id": "1bcbfb90",
   "metadata": {
    "ExecuteTime": {
     "end_time": "2022-09-23T15:05:14.645713Z",
     "start_time": "2022-09-23T15:05:14.633987Z"
    }
   },
   "outputs": [
    {
     "name": "stdout",
     "output_type": "stream",
     "text": [
      "True\n"
     ]
    }
   ],
   "source": [
    "def myFunction() :\n",
    "  return True\n",
    "\n",
    "print(myFunction())"
   ]
  },
  {
   "cell_type": "code",
   "execution_count": 42,
   "id": "67944d67",
   "metadata": {
    "ExecuteTime": {
     "end_time": "2022-09-23T15:09:01.224628Z",
     "start_time": "2022-09-23T15:09:01.217623Z"
    }
   },
   "outputs": [
    {
     "name": "stdout",
     "output_type": "stream",
     "text": [
      "True\n"
     ]
    }
   ],
   "source": [
    "\"\"\"\n",
    "Syntax: \n",
    "\n",
    "isinstance(obj, class)\n",
    "Parameters : \n",
    "\n",
    "obj : The object that need to be checked as a part of class or not.\n",
    "class : class/type/tuple of class or type, against which object is needed to be checked\n",
    "\"\"\"\n",
    "\n",
    "#Check if an object is an integer or not:\n",
    "x = 200\n",
    "print(isinstance(x, int))\n"
   ]
  },
  {
   "cell_type": "markdown",
   "id": "c4f4bba7",
   "metadata": {},
   "source": [
    "# Python String Methods"
   ]
  },
  {
   "cell_type": "markdown",
   "id": "c8f2d55b",
   "metadata": {},
   "source": [
    "Case Changing of Strings\n",
    "The below functions are used to change the case of the strings.\n",
    "\n",
    "lower(): Converts all uppercase characters in a string into lowercase\n",
    "upper(): Converts all lowercase characters in a string into uppercase\n",
    "title(): Convert string to title case"
   ]
  },
  {
   "cell_type": "markdown",
   "id": "cbe1c7bc",
   "metadata": {},
   "source": [
    "## Changing the case of Python Strings."
   ]
  },
  {
   "cell_type": "code",
   "execution_count": 12,
   "id": "b932dfab",
   "metadata": {
    "ExecuteTime": {
     "end_time": "2022-10-25T14:44:44.959298Z",
     "start_time": "2022-10-25T14:44:44.933021Z"
    }
   },
   "outputs": [
    {
     "name": "stdout",
     "output_type": "stream",
     "text": [
      "\n",
      "Converted String:\n",
      "GEEKS FOR GEEKS\n",
      "\n",
      "Converted String:\n",
      "geeks for geeks\n",
      "\n",
      "Converted String:\n",
      "Geeks For Geeks\n",
      "\n",
      "Original String\n",
      "geeKs For geEkS\n"
     ]
    }
   ],
   "source": [
    "# Python3 program to show the\n",
    "# working of upper() function\n",
    "text = 'geeKs For geEkS'\n",
    " \n",
    "# upper() function to convert\n",
    "# string to upper case\n",
    "print(\"\\nConverted String:\")\n",
    "print(text.upper())\n",
    " \n",
    "# lower() function to convert\n",
    "# string to lower case\n",
    "print(\"\\nConverted String:\")\n",
    "print(text.lower())\n",
    " \n",
    "# converts the first character to\n",
    "# upper case and rest to lower case\n",
    "print(\"\\nConverted String:\")\n",
    "print(text.title())\n",
    " \n",
    "# original string never changes\n",
    "print(\"\\nOriginal String\")\n",
    "print(text)"
   ]
  },
  {
   "cell_type": "markdown",
   "id": "45040a1a",
   "metadata": {},
   "source": [
    "## string capitalize() in Python"
   ]
  },
  {
   "cell_type": "markdown",
   "id": "79212c8c",
   "metadata": {},
   "source": [
    "Syntax: string_name.capitalize()\n",
    "\n",
    "Parameter:  The capitalize() function does not takes any parameter. \n",
    "\n",
    "Return: The capitalize() function returns a string with the first character in the capital."
   ]
  },
  {
   "cell_type": "code",
   "execution_count": 13,
   "id": "2f911492",
   "metadata": {
    "ExecuteTime": {
     "end_time": "2022-10-25T14:48:09.791529Z",
     "start_time": "2022-10-25T14:48:09.768903Z"
    }
   },
   "outputs": [
    {
     "name": "stdout",
     "output_type": "stream",
     "text": [
      "Geeks for geeks\n"
     ]
    }
   ],
   "source": [
    "name = \"geeks FOR geeks\"\n",
    " \n",
    "print(name.capitalize())"
   ]
  },
  {
   "cell_type": "markdown",
   "id": "fdbf13b5",
   "metadata": {},
   "source": [
    "### Example 1: capitalize() only capitalizes the first letter of a string and lowers all the remaining characters"
   ]
  },
  {
   "cell_type": "code",
   "execution_count": 15,
   "id": "1994be7f",
   "metadata": {
    "ExecuteTime": {
     "end_time": "2022-10-25T14:50:09.799646Z",
     "start_time": "2022-10-25T14:50:09.784187Z"
    }
   },
   "outputs": [
    {
     "name": "stdout",
     "output_type": "stream",
     "text": [
      "Original string: roses are red\n",
      "After using capitalzie: Roses are red\n"
     ]
    }
   ],
   "source": [
    "string = \"roses are red\"\n",
    "print(\"Original string:\", string)\n",
    "print(\"After using capitalzie:\", string.capitalize())"
   ]
  },
  {
   "cell_type": "markdown",
   "id": "cb334f60",
   "metadata": {},
   "source": [
    "### Example 2: Python String capitalize() Method Doesn’t Modify the Original String"
   ]
  },
  {
   "cell_type": "code",
   "execution_count": 16,
   "id": "bd9930f4",
   "metadata": {
    "ExecuteTime": {
     "end_time": "2022-10-25T14:50:43.309336Z",
     "start_time": "2022-10-25T14:50:43.298185Z"
    }
   },
   "outputs": [
    {
     "name": "stdout",
     "output_type": "stream",
     "text": [
      "New string after using capitalize(): Geeks for geeks\n",
      "Original string: geeks for geeks\n"
     ]
    }
   ],
   "source": [
    "string = \"geeks for geeks\"\n",
    "string_2 = string.capitalize()\n",
    " \n",
    "print(\"New string after using capitalize():\", string_2)\n",
    " \n",
    "print(\"Original string:\", string)"
   ]
  },
  {
   "cell_type": "markdown",
   "id": "45a26e89",
   "metadata": {},
   "source": [
    "## String casefold() Method"
   ]
  },
  {
   "cell_type": "markdown",
   "id": "22252a2d",
   "metadata": {},
   "source": [
    "Syntax:  string.casefold()\n",
    "\n",
    "Parameters: The casefold() method doesn’t take any parameters.\n",
    "\n",
    "Return value: Returns the case folded string the string converted to lower case."
   ]
  },
  {
   "cell_type": "code",
   "execution_count": 17,
   "id": "77f1bafe",
   "metadata": {
    "ExecuteTime": {
     "end_time": "2022-10-25T14:52:26.242973Z",
     "start_time": "2022-10-25T14:52:26.232873Z"
    }
   },
   "outputs": [
    {
     "name": "stdout",
     "output_type": "stream",
     "text": [
      "lowercase string:  geeksforgeeks\n"
     ]
    }
   ],
   "source": [
    "string = \"GEEKSFORGEEKS\"\n",
    " \n",
    "print(\"lowercase string: \", string.casefold())"
   ]
  },
  {
   "cell_type": "markdown",
   "id": "f89b1e58",
   "metadata": {},
   "source": [
    "### Python String lower() vs casefold()"
   ]
  },
  {
   "cell_type": "code",
   "execution_count": 18,
   "id": "b9e44afa",
   "metadata": {
    "ExecuteTime": {
     "end_time": "2022-10-25T14:52:42.859643Z",
     "start_time": "2022-10-25T14:52:42.849045Z"
    }
   },
   "outputs": [
    {
     "name": "stdout",
     "output_type": "stream",
     "text": [
      "Using lower(): ß\n",
      "Using casefold(): ss\n"
     ]
    }
   ],
   "source": [
    "string = \"ß\"\n",
    " \n",
    "print(\"Using lower():\", string.lower())\n",
    "print(\"Using casefold():\", string.casefold())"
   ]
  },
  {
   "cell_type": "code",
   "execution_count": 19,
   "id": "0b9169a0",
   "metadata": {
    "ExecuteTime": {
     "end_time": "2022-10-25T14:53:02.027312Z",
     "start_time": "2022-10-25T14:53:02.017761Z"
    }
   },
   "outputs": [
    {
     "name": "stdout",
     "output_type": "stream",
     "text": [
      "Original String: WeightAGE oF THe DiScuSSiON\n",
      "String after using casefold(): weightage of the discussion\n"
     ]
    }
   ],
   "source": [
    "#Practical Example using Python String casefold() Method\n",
    "string = \"WeightAGE oF THe DiScuSSiON\"\n",
    " \n",
    "print(\"Original String:\", string)\n",
    "# print the string after casefold transformation\n",
    "print(\"String after using casefold():\", string.casefold())"
   ]
  },
  {
   "cell_type": "markdown",
   "id": "1bfb7bf2",
   "metadata": {},
   "source": [
    "## Python String count() Method"
   ]
  },
  {
   "cell_type": "markdown",
   "id": "cc1fd396",
   "metadata": {},
   "source": [
    "Syntax: \n",
    "\n",
    "string.count(substring, start=…, end=…)\n",
    "\n",
    "Parameters: \n",
    "\n",
    "The count() function has one compulsory and two optional parameters. \n",
    "Mandatory parameter: \n",
    "substring – string whose count is to be found.\n",
    "Optional Parameters: \n",
    "start (Optional) – starting index within the string where the search starts. \n",
    "end (Optional) – ending index within the string where the search ends.\n",
    "Return Value:\n",
    "\n",
    "count() method returns an integer that denotes number of times a substring occurs in a given string. "
   ]
  },
  {
   "cell_type": "code",
   "execution_count": 1,
   "id": "0922f79d",
   "metadata": {
    "ExecuteTime": {
     "end_time": "2022-10-26T13:44:26.412142Z",
     "start_time": "2022-10-26T13:44:26.371155Z"
    }
   },
   "outputs": [
    {
     "name": "stdout",
     "output_type": "stream",
     "text": [
      "2\n"
     ]
    }
   ],
   "source": [
    "# Python program to demonstrate the use of\n",
    "# count() method without optional parameters \n",
    "  \n",
    "# string in which occurrence will be checked\n",
    "string = \"geeks for geeks\" \n",
    "  \n",
    "# counts the number of times substring occurs in \n",
    "# the given string and returns an integer\n",
    "print(string.count(\"geeks\"))"
   ]
  },
  {
   "cell_type": "code",
   "execution_count": 2,
   "id": "482aaa51",
   "metadata": {
    "ExecuteTime": {
     "end_time": "2022-10-26T13:45:16.795854Z",
     "start_time": "2022-10-26T13:45:16.771654Z"
    }
   },
   "outputs": [
    {
     "name": "stdout",
     "output_type": "stream",
     "text": [
      "1\n",
      "2\n"
     ]
    }
   ],
   "source": [
    "# Python program to demonstrate the use of\n",
    "# count() method  using optional parameters\n",
    "  \n",
    "# string in which occurrence will be checked\n",
    "string = \"geeks for geeks\" \n",
    "  \n",
    "# counts the number of times substring occurs in \n",
    "# the given string between index 0 and 5 and returns \n",
    "# an integer\n",
    "print(string.count(\"geeks\", 0, 5))\n",
    "  \n",
    "print(string.count(\"geeks\", 0, 15))"
   ]
  },
  {
   "cell_type": "markdown",
   "id": "89d33bd2",
   "metadata": {},
   "source": [
    "## Python String find() method"
   ]
  },
  {
   "cell_type": "markdown",
   "id": "e16d3580",
   "metadata": {},
   "source": [
    "Python String find() method returns the lowest index or first occurrence of the substring if it is found in a given string. If it is not found, then it returns -1.\n",
    "\n",
    "Syntax: str_obj.find(sub, start, end)\n",
    "\n",
    "Parameters: \n",
    "\n",
    "sub: Substring that needs to be searched in the given string. \n",
    "start (optional): Starting position where the substring needs to be checked within the string. \n",
    "end (optional): End position is the index of the last value for the specified range. It is excluded while checking. \n",
    "Return:  Returns the lowest index of the substring if it is found in a given string. If it’s not found then it returns -1.\n",
    "\n"
   ]
  },
  {
   "cell_type": "code",
   "execution_count": 3,
   "id": "cca99b6a",
   "metadata": {
    "ExecuteTime": {
     "end_time": "2022-10-26T13:47:05.760196Z",
     "start_time": "2022-10-26T13:47:05.744873Z"
    }
   },
   "outputs": [
    {
     "name": "stdout",
     "output_type": "stream",
     "text": [
      "6\n"
     ]
    }
   ],
   "source": [
    "word = 'geeks for geeks'\n",
    "print(word.find('for'))"
   ]
  },
  {
   "cell_type": "code",
   "execution_count": 4,
   "id": "2269ab1c",
   "metadata": {
    "ExecuteTime": {
     "end_time": "2022-10-26T13:47:50.714094Z",
     "start_time": "2022-10-26T13:47:50.690071Z"
    }
   },
   "outputs": [
    {
     "name": "stdout",
     "output_type": "stream",
     "text": [
      "Substring 'geeks' found at index: 0\n",
      "Substring 'for ' found at index: 6\n",
      "Doesn't contains given substring\n"
     ]
    }
   ],
   "source": [
    "#Example 1: find() With No start and end Argument\n",
    "\n",
    "word = 'geeks for geeks'\n",
    " \n",
    "# returns first occurrence of Substring\n",
    "result = word.find('geeks')\n",
    "print(\"Substring 'geeks' found at index:\", result)\n",
    " \n",
    "result = word.find('for')\n",
    "print(\"Substring 'for ' found at index:\", result)\n",
    " \n",
    "# How to use find()\n",
    "if word.find('pawan') != -1:\n",
    "    print(\"Contains given substring \")\n",
    "else:\n",
    "    print(\"Doesn't contains given substring\")"
   ]
  },
  {
   "cell_type": "code",
   "execution_count": 5,
   "id": "4b10d140",
   "metadata": {
    "ExecuteTime": {
     "end_time": "2022-10-26T13:49:06.631577Z",
     "start_time": "2022-10-26T13:49:06.611290Z"
    }
   },
   "outputs": [
    {
     "name": "stdout",
     "output_type": "stream",
     "text": [
      "10\n",
      "-1\n",
      "-1\n",
      "6\n"
     ]
    }
   ],
   "source": [
    "# Example 2: find() With start and end Arguments\n",
    "word = 'geeks for geeks'\n",
    " \n",
    "# Substring is searched in 'eks for geeks'\n",
    "print(word.find('ge', 2))\n",
    " \n",
    "# Substring is searched in 'eks for geeks'\n",
    "print(word.find('geeks ', 2))\n",
    " \n",
    "# Substring is searched in 's for g'\n",
    "print(word.find('g', 4, 10))\n",
    " \n",
    "# Substring is searched in 's for g'\n",
    "print(word.find('for ', 4, 11))"
   ]
  },
  {
   "cell_type": "markdown",
   "id": "b2c90b38",
   "metadata": {},
   "source": [
    "# Python Operators"
   ]
  },
  {
   "cell_type": "markdown",
   "id": "926c24d3",
   "metadata": {},
   "source": [
    "Python divides the operators in the following groups:\n",
    "\n",
    "Arithmetic operators\n",
    "\n",
    "Assignment operators\n",
    "\n",
    "Comparison operators\n",
    "\n",
    "Logical operators\n",
    "\n",
    "Identity operators\n",
    "\n",
    "Membership operators\n",
    "\n",
    "Bitwise operators"
   ]
  },
  {
   "cell_type": "markdown",
   "id": "5b3caa10",
   "metadata": {},
   "source": [
    "## Python Arithmetic Operators"
   ]
  },
  {
   "cell_type": "markdown",
   "id": "6f506195",
   "metadata": {},
   "source": [
    "\n",
    "Operator\tName\t   Example\t\n",
    "+\t      Addition\t   x + y\t\n",
    "-\t    Subtraction\t   x - y\t\n",
    "*\t Multiplication    x * y\t\n",
    "/\t    Division\t   x / y\t\n",
    "%\t     Modulus\t   x % y\t\n",
    "**\t  Exponentiation\tx ** y\t\n",
    "//\t  Floor division\tx // y\n"
   ]
  },
  {
   "cell_type": "markdown",
   "id": "92ea6e8f",
   "metadata": {},
   "source": [
    "## Python Assignment Operators"
   ]
  },
  {
   "cell_type": "markdown",
   "id": "b99eb53a",
   "metadata": {},
   "source": [
    "Assignment operators are used to assign values to variables:\n",
    "    \n",
    "Operator\tExample\t            Same As\t\n",
    " =\t        x = 5\t            x = 5\t\n",
    "+=\t        x += 3\t            x = x + 3\t\n",
    "-=\t        x -= 3\t            x = x - 3\t\n",
    "*=\t        x *= 3\t            x = x * 3\t\n",
    "/=     \t    x /= 3\t            x = x / 3\t\n",
    "%=\t        x %= 3\t            x = x % 3\t\n",
    "//=\t        x //= 3\t            x = x // 3\t\n",
    "**=\t        x **= 3\t            x = x ** 3\t\n",
    "&=\t        x &= 3\t            x = x & 3\t\n",
    "|=\t        x |= 3\t            x = x | 3\t\n",
    "^=\t        x ^= 3\t            x = x ^ 3\t\n",
    ">>=\t        x >>= 3\t            x = x >> 3\t\n",
    "<<=\t        x <<= 3\t            x = x << 3"
   ]
  },
  {
   "cell_type": "markdown",
   "id": "da7ab1ff",
   "metadata": {},
   "source": [
    "## Python Comparison Operators"
   ]
  },
  {
   "cell_type": "markdown",
   "id": "279bf5c3",
   "metadata": {},
   "source": [
    "Operator\tName\t                Example\t\n",
    "==\t       Equal\t                x == y\t\n",
    "!=\t       Not equal\t            x != y\t\n",
    ">\t       Greater than\t            x > y\t\n",
    "<\t        Less than\t            x < y\t\n",
    ">=\t       Greater than or equal to\tx >= y\t\n",
    "<=\t       Less than or equal to\tx <= y"
   ]
  },
  {
   "cell_type": "markdown",
   "id": "18e693a7",
   "metadata": {},
   "source": [
    "## Python Logical Operators"
   ]
  },
  {
   "cell_type": "markdown",
   "id": "22562067",
   "metadata": {},
   "source": [
    "Operator\tDescription\t                                                   Example\t\n",
    "and \t    Returns True if both statements are true\t                    x < 5 and  x < 10\t\n",
    "or\t        Returns True if one of the statements is true\t                x < 5 or x < 4\t\n",
    "not\t        Reverse the result, returns False if the result is true\tnot    (x < 5 and x < 10)"
   ]
  },
  {
   "cell_type": "markdown",
   "id": "05c3095f",
   "metadata": {},
   "source": [
    "# Python Lists"
   ]
  },
  {
   "cell_type": "markdown",
   "id": "de784cef",
   "metadata": {},
   "source": [
    "Lists are used to store multiple items in a single variable."
   ]
  },
  {
   "cell_type": "code",
   "execution_count": 43,
   "id": "080a2ef4",
   "metadata": {
    "ExecuteTime": {
     "end_time": "2022-09-23T15:30:59.510611Z",
     "start_time": "2022-09-23T15:30:59.488916Z"
    }
   },
   "outputs": [
    {
     "name": "stdout",
     "output_type": "stream",
     "text": [
      "['apple', 'banana', 'cherry']\n"
     ]
    }
   ],
   "source": [
    "#Create a List:\n",
    "\n",
    "thislist = [\"apple\", \"banana\", \"cherry\"]\n",
    "print(thislist)"
   ]
  },
  {
   "cell_type": "code",
   "execution_count": 44,
   "id": "751caa41",
   "metadata": {
    "ExecuteTime": {
     "end_time": "2022-09-23T15:31:58.979791Z",
     "start_time": "2022-09-23T15:31:58.971583Z"
    }
   },
   "outputs": [
    {
     "name": "stdout",
     "output_type": "stream",
     "text": [
      "['apple', 'banana', 'cherry', 'apple', 'cherry']\n"
     ]
    }
   ],
   "source": [
    "#Lists allow duplicate values:\n",
    "\n",
    "thislist = [\"apple\", \"banana\", \"cherry\", \"apple\", \"cherry\"]\n",
    "print(thislist)"
   ]
  },
  {
   "cell_type": "code",
   "execution_count": 45,
   "id": "4f6a71bd",
   "metadata": {
    "ExecuteTime": {
     "end_time": "2022-09-23T15:32:58.512213Z",
     "start_time": "2022-09-23T15:32:58.496205Z"
    }
   },
   "outputs": [
    {
     "name": "stdout",
     "output_type": "stream",
     "text": [
      "3\n"
     ]
    }
   ],
   "source": [
    "#Print the number of items in the list:\n",
    "\n",
    "thislist = [\"apple\", \"banana\", \"cherry\"]\n",
    "print(len(thislist)) # To determine how many items a list has, use the len() function"
   ]
  },
  {
   "cell_type": "markdown",
   "id": "6aa38d41",
   "metadata": {},
   "source": [
    "List Items - Data Types\n",
    "List items can be of any data type:\n",
    "\n",
    "Example\n",
    "String, int and boolean data types:\n",
    "\n",
    "list1 = [\"apple\", \"banana\", \"cherry\"]\n",
    "list2 = [1, 5, 7, 9, 3]\n",
    "list3 = [True, False, False]\n",
    "\n",
    "A list can contain different data types:\n",
    "\n",
    "Example\n",
    "A list with strings, integers and boolean values:\n",
    "\n",
    "list1 = [\"abc\", 34, True, 40, \"male\"]"
   ]
  },
  {
   "cell_type": "code",
   "execution_count": 46,
   "id": "2d04010f",
   "metadata": {
    "ExecuteTime": {
     "end_time": "2022-09-23T15:34:54.631761Z",
     "start_time": "2022-09-23T15:34:54.620803Z"
    }
   },
   "outputs": [
    {
     "name": "stdout",
     "output_type": "stream",
     "text": [
      "<class 'list'>\n"
     ]
    }
   ],
   "source": [
    "mylist = [\"apple\", \"banana\", \"cherry\"]\n",
    "print(type(mylist))\n"
   ]
  },
  {
   "cell_type": "code",
   "execution_count": 47,
   "id": "cabb8fef",
   "metadata": {
    "ExecuteTime": {
     "end_time": "2022-09-23T15:36:04.395400Z",
     "start_time": "2022-09-23T15:36:04.383400Z"
    }
   },
   "outputs": [
    {
     "name": "stdout",
     "output_type": "stream",
     "text": [
      "['apple', 'banana', 'cherry']\n"
     ]
    }
   ],
   "source": [
    "#Using the list() constructor to make a List:\n",
    "\n",
    "thislist = list((\"apple\", \"banana\", \"cherry\")) # note the double round-brackets\n",
    "print(thislist)"
   ]
  },
  {
   "cell_type": "code",
   "execution_count": null,
   "id": "23696d01",
   "metadata": {},
   "outputs": [],
   "source": []
  },
  {
   "cell_type": "markdown",
   "id": "30e4499f",
   "metadata": {},
   "source": [
    "here are four collection data types in the Python programming language:\n",
    "\n",
    "List is a collection which is ordered and changeable. Allows duplicate members.\n",
    "\n",
    "Tuple is a collection which is ordered and unchangeable. Allows duplicate members.\n",
    "\n",
    "Set is a collection which is unordered, unchangeable*, and unindexed. No duplicate members.\n",
    "\n",
    "Dictionary is a collection which is ordered** and changeable. No duplicate members."
   ]
  },
  {
   "cell_type": "markdown",
   "id": "510c4cb2",
   "metadata": {},
   "source": [
    "## Change Item Value"
   ]
  },
  {
   "cell_type": "code",
   "execution_count": 1,
   "id": "7a7e2b55",
   "metadata": {
    "ExecuteTime": {
     "end_time": "2022-09-24T06:35:37.879290Z",
     "start_time": "2022-09-24T06:35:37.858019Z"
    }
   },
   "outputs": [
    {
     "name": "stdout",
     "output_type": "stream",
     "text": [
      "['apple', 'blackcurrant', 'cherry']\n"
     ]
    }
   ],
   "source": [
    "thislist = [\"apple\", \"banana\", \"cherry\"]\n",
    "thislist[1] = \"blackcurrant\"\n",
    "print(thislist)"
   ]
  },
  {
   "cell_type": "markdown",
   "id": "fe776c94",
   "metadata": {},
   "source": [
    "## Change a Range of Item Values"
   ]
  },
  {
   "cell_type": "code",
   "execution_count": 2,
   "id": "dd5250bd",
   "metadata": {
    "ExecuteTime": {
     "end_time": "2022-09-24T06:36:34.395402Z",
     "start_time": "2022-09-24T06:36:34.385459Z"
    }
   },
   "outputs": [
    {
     "name": "stdout",
     "output_type": "stream",
     "text": [
      "['apple', 'blackcurrant', 'watermelon', 'orange', 'kiwi', 'mango']\n"
     ]
    }
   ],
   "source": [
    "thislist = [\"apple\", \"banana\", \"cherry\", \"orange\", \"kiwi\", \"mango\"]\n",
    "thislist[1:3] = [\"blackcurrant\", \"watermelon\"]\n",
    "print(thislist)"
   ]
  },
  {
   "cell_type": "code",
   "execution_count": 3,
   "id": "e988af69",
   "metadata": {
    "ExecuteTime": {
     "end_time": "2022-09-24T06:37:32.637827Z",
     "start_time": "2022-09-24T06:37:32.626026Z"
    }
   },
   "outputs": [
    {
     "name": "stdout",
     "output_type": "stream",
     "text": [
      "['apple', 'blackcurrant', 'watermelon', 'cherry']\n"
     ]
    }
   ],
   "source": [
    "# Change the second value by replacing it with two new values:\n",
    "\n",
    "thislist = [\"apple\", \"banana\", \"cherry\"]\n",
    "thislist[1:2] = [\"blackcurrant\", \"watermelon\"]\n",
    "print(thislist)"
   ]
  },
  {
   "cell_type": "markdown",
   "id": "c795dd17",
   "metadata": {},
   "source": [
    "Note: The length of the list will change when the number of items inserted does not match the number of items replaced.\n",
    "\n",
    "If you insert less items than you replace, the new items will be inserted where you specified, and the remaining items will move accordingly:"
   ]
  },
  {
   "cell_type": "code",
   "execution_count": 4,
   "id": "d9b4e4fe",
   "metadata": {
    "ExecuteTime": {
     "end_time": "2022-09-24T06:39:40.231085Z",
     "start_time": "2022-09-24T06:39:40.218996Z"
    }
   },
   "outputs": [
    {
     "name": "stdout",
     "output_type": "stream",
     "text": [
      "['apple', 'watermelon']\n"
     ]
    }
   ],
   "source": [
    "#Change the second and third value by replacing it with one value:\n",
    "\n",
    "thislist = [\"apple\", \"banana\", \"cherry\"]\n",
    "thislist[1:3] = [\"watermelon\"]\n",
    "print(thislist)"
   ]
  },
  {
   "cell_type": "markdown",
   "id": "bccf4399",
   "metadata": {},
   "source": [
    "## Insert Items"
   ]
  },
  {
   "cell_type": "code",
   "execution_count": 5,
   "id": "0d625260",
   "metadata": {
    "ExecuteTime": {
     "end_time": "2022-09-24T06:40:50.278054Z",
     "start_time": "2022-09-24T06:40:50.262915Z"
    }
   },
   "outputs": [
    {
     "name": "stdout",
     "output_type": "stream",
     "text": [
      "['apple', 'banana', 'watermelon', 'cherry']\n"
     ]
    }
   ],
   "source": [
    "#Insert \"watermelon\" as the third item:\n",
    "\n",
    "thislist = [\"apple\", \"banana\", \"cherry\"]\n",
    "thislist.insert(2, \"watermelon\")\n",
    "print(thislist)"
   ]
  },
  {
   "cell_type": "markdown",
   "id": "1f32bce3",
   "metadata": {},
   "source": [
    "# Python - Add List Items"
   ]
  },
  {
   "cell_type": "markdown",
   "id": "3fb85f87",
   "metadata": {},
   "source": [
    "## Append Items"
   ]
  },
  {
   "cell_type": "code",
   "execution_count": 6,
   "id": "9a3c8809",
   "metadata": {
    "ExecuteTime": {
     "end_time": "2022-09-24T06:49:06.698489Z",
     "start_time": "2022-09-24T06:49:06.684760Z"
    }
   },
   "outputs": [
    {
     "name": "stdout",
     "output_type": "stream",
     "text": [
      "['apple', 'banana', 'cherry', 'orange']\n"
     ]
    }
   ],
   "source": [
    "thislist = [\"apple\", \"banana\", \"cherry\"]\n",
    "thislist.append(\"orange\")\n",
    "print(thislist)"
   ]
  },
  {
   "cell_type": "markdown",
   "id": "58a461d8",
   "metadata": {},
   "source": [
    "## Change List Items: Change List Items\n"
   ]
  },
  {
   "cell_type": "code",
   "execution_count": 6,
   "id": "765a14f2",
   "metadata": {
    "ExecuteTime": {
     "end_time": "2022-10-25T06:03:24.955594Z",
     "start_time": "2022-10-25T06:03:24.940361Z"
    }
   },
   "outputs": [
    {
     "name": "stdout",
     "output_type": "stream",
     "text": [
      "['apple', 'blackcurrant', 'cherry']\n"
     ]
    }
   ],
   "source": [
    "#Change the second item:\n",
    "\n",
    "thislist = [\"apple\", \"banana\", \"cherry\"]\n",
    "thislist[1] = \"blackcurrant\"\n",
    "print(thislist)"
   ]
  },
  {
   "cell_type": "code",
   "execution_count": 7,
   "id": "c4dee488",
   "metadata": {
    "ExecuteTime": {
     "end_time": "2022-10-25T06:08:15.597969Z",
     "start_time": "2022-10-25T06:08:15.566635Z"
    }
   },
   "outputs": [
    {
     "name": "stdout",
     "output_type": "stream",
     "text": [
      "['apple', 'blackcurrant', 'watermelon', 'orange', 'kiwi', 'mango']\n"
     ]
    }
   ],
   "source": [
    "#Change the values \"banana\" and \"cherry\" with the values \"blackcurrant\" and \"watermelon\":\n",
    "\n",
    "thislist = [\"apple\", \"banana\", \"cherry\", \"orange\", \"kiwi\", \"mango\"]\n",
    "thislist[1:3] = [\"blackcurrant\", \"watermelon\"]\n",
    "print(thislist)"
   ]
  },
  {
   "cell_type": "code",
   "execution_count": 9,
   "id": "a364b1a2",
   "metadata": {
    "ExecuteTime": {
     "end_time": "2022-10-25T06:08:58.113946Z",
     "start_time": "2022-10-25T06:08:58.097909Z"
    }
   },
   "outputs": [
    {
     "name": "stdout",
     "output_type": "stream",
     "text": [
      "['apple', 'blackcurrant', 'watermelon', 'cherry']\n"
     ]
    }
   ],
   "source": [
    "#Change the second value by replacing it with two new values:\n",
    "\n",
    "thislist = [\"apple\", \"banana\", \"cherry\"]\n",
    "thislist[1:2] = [\"blackcurrant\", \"watermelon\"]\n",
    "print(thislist)"
   ]
  },
  {
   "cell_type": "code",
   "execution_count": 10,
   "id": "b9211a0a",
   "metadata": {
    "ExecuteTime": {
     "end_time": "2022-10-25T06:09:42.449309Z",
     "start_time": "2022-10-25T06:09:42.425120Z"
    }
   },
   "outputs": [
    {
     "name": "stdout",
     "output_type": "stream",
     "text": [
      "['apple', 'watermelon']\n"
     ]
    }
   ],
   "source": [
    "#Change the second and third value by replacing it with one value:\n",
    "\n",
    "thislist = [\"apple\", \"banana\", \"cherry\"]\n",
    "thislist[1:3] = [\"watermelon\"]\n",
    "print(thislist)"
   ]
  },
  {
   "cell_type": "code",
   "execution_count": null,
   "id": "bc927e58",
   "metadata": {},
   "outputs": [],
   "source": []
  },
  {
   "cell_type": "markdown",
   "id": "02fbe6a2",
   "metadata": {},
   "source": [
    "## Insert Items"
   ]
  },
  {
   "cell_type": "code",
   "execution_count": 7,
   "id": "f7fb1b8b",
   "metadata": {
    "ExecuteTime": {
     "end_time": "2022-09-24T06:50:26.561852Z",
     "start_time": "2022-09-24T06:50:26.554486Z"
    }
   },
   "outputs": [
    {
     "name": "stdout",
     "output_type": "stream",
     "text": [
      "['apple', 'orange', 'banana', 'cherry']\n"
     ]
    }
   ],
   "source": [
    "#To insert a list item at a specified index, use the insert() method.\n",
    "\n",
    "#The insert() method inserts an item at the specified index:\n",
    "\n",
    "\n",
    "#Insert an item as the second position:\n",
    "\n",
    "thislist = [\"apple\", \"banana\", \"cherry\"]\n",
    "thislist.insert(1, \"orange\")\n",
    "print(thislist)"
   ]
  },
  {
   "cell_type": "markdown",
   "id": "5635df11",
   "metadata": {},
   "source": [
    "## Extend List"
   ]
  },
  {
   "cell_type": "code",
   "execution_count": 8,
   "id": "068e39e9",
   "metadata": {
    "ExecuteTime": {
     "end_time": "2022-09-24T06:51:35.986647Z",
     "start_time": "2022-09-24T06:51:35.973236Z"
    }
   },
   "outputs": [
    {
     "name": "stdout",
     "output_type": "stream",
     "text": [
      "['apple', 'banana', 'cherry', 'mango', 'pineapple', 'papaya']\n"
     ]
    }
   ],
   "source": [
    "# Add the elements of tropical to thislist:\n",
    "\n",
    "thislist = [\"apple\", \"banana\", \"cherry\"]\n",
    "tropical = [\"mango\", \"pineapple\", \"papaya\"]\n",
    "thislist.extend(tropical)\n",
    "print(thislist)"
   ]
  },
  {
   "cell_type": "markdown",
   "id": "b9faff78",
   "metadata": {},
   "source": [
    "## Add Any Iterable"
   ]
  },
  {
   "cell_type": "code",
   "execution_count": 9,
   "id": "fdfd7633",
   "metadata": {
    "ExecuteTime": {
     "end_time": "2022-09-24T07:38:04.014869Z",
     "start_time": "2022-09-24T07:38:04.001855Z"
    }
   },
   "outputs": [
    {
     "name": "stdout",
     "output_type": "stream",
     "text": [
      "['apple', 'banana', 'cherry', 'kiwi', 'orange']\n"
     ]
    }
   ],
   "source": [
    "#he extend() method does not have to append lists, you can add any iterable object (tuples, sets, dictionaries etc.).\n",
    "\n",
    "#Example\n",
    "#Add elements of a tuple to a list:\n",
    "\n",
    "thislist = [\"apple\", \"banana\", \"cherry\"]\n",
    "thistuple = (\"kiwi\", \"orange\")\n",
    "thislist.extend(thistuple)\n",
    "print(thislist)"
   ]
  },
  {
   "cell_type": "markdown",
   "id": "ff344a67",
   "metadata": {},
   "source": [
    "# Remove List Items\n"
   ]
  },
  {
   "cell_type": "markdown",
   "id": "f4199528",
   "metadata": {},
   "source": [
    "## Remove Specified Item"
   ]
  },
  {
   "cell_type": "code",
   "execution_count": 10,
   "id": "97e8cded",
   "metadata": {
    "ExecuteTime": {
     "end_time": "2022-09-24T07:41:16.914908Z",
     "start_time": "2022-09-24T07:41:16.893870Z"
    }
   },
   "outputs": [
    {
     "name": "stdout",
     "output_type": "stream",
     "text": [
      "['apple', 'cherry']\n"
     ]
    }
   ],
   "source": [
    "# Remove \"banana\":\n",
    "\n",
    "thislist = [\"apple\", \"banana\", \"cherry\"]\n",
    "thislist.remove(\"banana\")\n",
    "print(thislist)"
   ]
  },
  {
   "cell_type": "markdown",
   "id": "2112974a",
   "metadata": {},
   "source": [
    "## Remove Specified Index"
   ]
  },
  {
   "cell_type": "code",
   "execution_count": 11,
   "id": "7f15acab",
   "metadata": {
    "ExecuteTime": {
     "end_time": "2022-09-24T07:47:16.749424Z",
     "start_time": "2022-09-24T07:47:16.739654Z"
    }
   },
   "outputs": [
    {
     "name": "stdout",
     "output_type": "stream",
     "text": [
      "['apple', 'cherry']\n"
     ]
    }
   ],
   "source": [
    "thislist = [\"apple\", \"banana\", \"cherry\"]\n",
    "thislist.pop(1)\n",
    "print(thislist)"
   ]
  },
  {
   "cell_type": "code",
   "execution_count": 12,
   "id": "d7069a53",
   "metadata": {
    "ExecuteTime": {
     "end_time": "2022-09-24T07:48:11.734183Z",
     "start_time": "2022-09-24T07:48:11.719584Z"
    }
   },
   "outputs": [
    {
     "name": "stdout",
     "output_type": "stream",
     "text": [
      "['apple', 'banana']\n"
     ]
    }
   ],
   "source": [
    "#If you do not specify the index, the pop() method removes the last item.\n",
    "thislist = [\"apple\", \"banana\", \"cherry\"]\n",
    "thislist.pop()\n",
    "print(thislist)"
   ]
  },
  {
   "cell_type": "code",
   "execution_count": 14,
   "id": "d43f44ad",
   "metadata": {
    "ExecuteTime": {
     "end_time": "2022-09-24T07:49:01.778470Z",
     "start_time": "2022-09-24T07:49:01.769205Z"
    }
   },
   "outputs": [],
   "source": [
    "#Delete the entire list:\n",
    "\n",
    "thislist = [\"apple\", \"banana\", \"cherry\"]\n",
    "del thislist"
   ]
  },
  {
   "cell_type": "markdown",
   "id": "08520f88",
   "metadata": {},
   "source": [
    "## Clear the List"
   ]
  },
  {
   "cell_type": "code",
   "execution_count": 15,
   "id": "e4c75f59",
   "metadata": {
    "ExecuteTime": {
     "end_time": "2022-09-24T07:51:24.250706Z",
     "start_time": "2022-09-24T07:51:24.236993Z"
    }
   },
   "outputs": [
    {
     "name": "stdout",
     "output_type": "stream",
     "text": [
      "[]\n"
     ]
    }
   ],
   "source": [
    "thislist = [\"apple\", \"banana\", \"cherry\"]\n",
    "thislist.clear()\n",
    "print(thislist)"
   ]
  },
  {
   "cell_type": "markdown",
   "id": "04fdfc32",
   "metadata": {},
   "source": [
    "# List Methods"
   ]
  },
  {
   "cell_type": "markdown",
   "id": "1629aec0",
   "metadata": {},
   "source": [
    "\n",
    "Python has a set of built-in methods that you can use on lists.\n",
    "\n",
    "Method\t       Description\n",
    "\n",
    "append()\t   Adds an element at the end of the list\n",
    "\n",
    "clear()\t       Removes all the elements from the list\n",
    "\n",
    "copy()\t       Returns a copy of the list\n",
    "\n",
    "count()     \tReturns the number of elements with the specified value\n",
    "\n",
    "extend()    \tAdd the elements of a list (or any iterable), to the end of the current list\n",
    "\n",
    "index()\t      Returns the index of the first element with the specified value\n",
    "\n",
    "insert()\t  Adds an element at the specified position\n",
    "\n",
    "pop()       \tRemoves the element at the specified position\n",
    "\n",
    "remove()\t  Removes the item with the specified value\n",
    "\n",
    "reverse()\t  Reverses the order of the list\n",
    "\n",
    "sort()\t      Sorts the list"
   ]
  },
  {
   "cell_type": "markdown",
   "id": "02c5d051",
   "metadata": {},
   "source": [
    "# Loop Lists"
   ]
  },
  {
   "cell_type": "markdown",
   "id": "033ed820",
   "metadata": {
    "ExecuteTime": {
     "end_time": "2022-10-25T05:37:10.798360Z",
     "start_time": "2022-10-25T05:37:10.775810Z"
    }
   },
   "source": [
    "## Loop Through a List"
   ]
  },
  {
   "cell_type": "code",
   "execution_count": 2,
   "id": "56668daf",
   "metadata": {
    "ExecuteTime": {
     "end_time": "2022-10-25T05:37:38.865644Z",
     "start_time": "2022-10-25T05:37:38.841458Z"
    }
   },
   "outputs": [
    {
     "name": "stdout",
     "output_type": "stream",
     "text": [
      "apple\n",
      "banana\n",
      "cherry\n"
     ]
    }
   ],
   "source": [
    "#Print all items in the list, one by one:\n",
    "thislist = [\"apple\", \"banana\", \"cherry\"]\n",
    "for x in thislist:\n",
    "  print(x)"
   ]
  },
  {
   "cell_type": "markdown",
   "id": "3dc640e3",
   "metadata": {},
   "source": [
    "## Loop Through the Index Numbers"
   ]
  },
  {
   "cell_type": "code",
   "execution_count": 3,
   "id": "aa226025",
   "metadata": {
    "ExecuteTime": {
     "end_time": "2022-10-25T05:38:35.499793Z",
     "start_time": "2022-10-25T05:38:35.483478Z"
    }
   },
   "outputs": [
    {
     "name": "stdout",
     "output_type": "stream",
     "text": [
      "apple\n",
      "banana\n",
      "cherry\n"
     ]
    }
   ],
   "source": [
    "#Print all items by referring to their index number:\n",
    "thislist = [\"apple\", \"banana\", \"cherry\"]\n",
    "for i in range(len(thislist)):\n",
    "  print(thislist[i])"
   ]
  },
  {
   "cell_type": "markdown",
   "id": "103b9d56",
   "metadata": {},
   "source": [
    "## Using a While Loop"
   ]
  },
  {
   "cell_type": "markdown",
   "id": "84f0c05e",
   "metadata": {},
   "source": [
    "You can loop through the list items by using a while loop.\n",
    "\n",
    "Use the len() function to determine the length of the list, then start at 0 and loop your way through the list items by referring to their indexes.\n",
    "\n",
    "Remember to increase the index by 1 after each iteration."
   ]
  },
  {
   "cell_type": "code",
   "execution_count": 4,
   "id": "3e83aded",
   "metadata": {
    "ExecuteTime": {
     "end_time": "2022-10-25T05:47:48.305604Z",
     "start_time": "2022-10-25T05:47:48.287581Z"
    }
   },
   "outputs": [
    {
     "name": "stdout",
     "output_type": "stream",
     "text": [
      "apple\n",
      "banana\n",
      "cherry\n"
     ]
    }
   ],
   "source": [
    "thislist = [\"apple\", \"banana\", \"cherry\"]\n",
    "i = 0\n",
    "while i < len(thislist):\n",
    "  print(thislist[i])\n",
    "  i = i + 1"
   ]
  },
  {
   "cell_type": "markdown",
   "id": "b329de43",
   "metadata": {},
   "source": [
    "## Looping Using List Comprehension"
   ]
  },
  {
   "cell_type": "code",
   "execution_count": 5,
   "id": "6f5ce66e",
   "metadata": {
    "ExecuteTime": {
     "end_time": "2022-10-25T05:51:00.715974Z",
     "start_time": "2022-10-25T05:51:00.682609Z"
    }
   },
   "outputs": [
    {
     "name": "stdout",
     "output_type": "stream",
     "text": [
      "apple\n",
      "banana\n",
      "cherry\n"
     ]
    },
    {
     "data": {
      "text/plain": [
       "[None, None, None]"
      ]
     },
     "execution_count": 5,
     "metadata": {},
     "output_type": "execute_result"
    }
   ],
   "source": [
    "# A short hand for loop that will print all items in a list:\n",
    "\n",
    "thislist = [\"apple\", \"banana\", \"cherry\"]\n",
    "[print(x) for x in thislist]"
   ]
  },
  {
   "cell_type": "markdown",
   "id": "545b2001",
   "metadata": {},
   "source": [
    "# if else statement"
   ]
  },
  {
   "cell_type": "code",
   "execution_count": 14,
   "id": "f147ac37",
   "metadata": {},
   "outputs": [
    {
     "name": "stdout",
     "output_type": "stream",
     "text": [
      "enter your age25\n",
      "you are eligible\n"
     ]
    }
   ],
   "source": [
    "age=int(input('enter your age'))\n",
    "if age>=18:\n",
    "    print ('you are eligible')\n",
    "else:\n",
    "     Print (\"oops! you are not eligible\")"
   ]
  },
  {
   "cell_type": "code",
   "execution_count": 16,
   "id": "ff048368",
   "metadata": {},
   "outputs": [
    {
     "name": "stdout",
     "output_type": "stream",
     "text": [
      "20\n"
     ]
    }
   ],
   "source": [
    "age = 20\n",
    "price = 95.12\n",
    "first_name = \"shubha\"\n",
    "is_online = \"false\"\n",
    "print(age)"
   ]
  },
  {
   "cell_type": "code",
   "execution_count": 3,
   "id": "74381c20",
   "metadata": {
    "ExecuteTime": {
     "end_time": "2022-10-25T14:08:40.559044Z",
     "start_time": "2022-10-25T14:08:40.549149Z"
    }
   },
   "outputs": [
    {
     "name": "stdout",
     "output_type": "stream",
     "text": [
      "Above ten,\n",
      "and also above 20!\n"
     ]
    }
   ],
   "source": [
    "x = 41\n",
    "\n",
    "if x > 10:\n",
    "  print(\"Above ten,\")\n",
    "  if x > 20:\n",
    "    print(\"and also above 20!\")\n",
    "  else:\n",
    "    print(\"but not above 20.\")"
   ]
  },
  {
   "cell_type": "code",
   "execution_count": 4,
   "id": "9fa61bb6",
   "metadata": {
    "ExecuteTime": {
     "end_time": "2022-10-25T14:10:02.789610Z",
     "start_time": "2022-10-25T14:10:02.771549Z"
    }
   },
   "outputs": [
    {
     "name": "stdout",
     "output_type": "stream",
     "text": [
      "Both conditions are True\n"
     ]
    }
   ],
   "source": [
    "#Test if a is greater than b, AND if c is greater than a:\n",
    "\n",
    "a = 200\n",
    "b = 33\n",
    "c = 500\n",
    "if a > b and c > a:\n",
    "  print(\"Both conditions are True\")"
   ]
  },
  {
   "cell_type": "code",
   "execution_count": 6,
   "id": "2197a9fa",
   "metadata": {
    "ExecuteTime": {
     "end_time": "2022-10-25T14:11:26.077061Z",
     "start_time": "2022-10-25T14:11:26.061632Z"
    }
   },
   "outputs": [
    {
     "name": "stdout",
     "output_type": "stream",
     "text": [
      "At least one of the conditions is True\n"
     ]
    }
   ],
   "source": [
    "#Test if a is greater than b, OR if a is greater than c:\n",
    "\n",
    "a = 200\n",
    "b = 33\n",
    "c = 500\n",
    "if a > b or a > c:\n",
    "  print(\"At least one of the conditions is True\")"
   ]
  },
  {
   "cell_type": "markdown",
   "id": "12cd8b93",
   "metadata": {},
   "source": [
    "# If Elif\n"
   ]
  },
  {
   "cell_type": "code",
   "execution_count": 1,
   "id": "ea2d2270",
   "metadata": {
    "ExecuteTime": {
     "end_time": "2022-10-25T14:01:24.554883Z",
     "start_time": "2022-10-25T14:01:24.512738Z"
    }
   },
   "outputs": [
    {
     "name": "stdout",
     "output_type": "stream",
     "text": [
      "a and b are equal\n"
     ]
    }
   ],
   "source": [
    "# The elif keyword is pythons way of saying \"if the previous conditions were not true, then try this condition\".\n",
    "a = 33\n",
    "b = 33\n",
    "if b > a:\n",
    "  print(\"b is greater than a\")\n",
    "elif a == b:\n",
    "  print(\"a and b are equal\")"
   ]
  },
  {
   "cell_type": "code",
   "execution_count": 2,
   "id": "6807132d",
   "metadata": {
    "ExecuteTime": {
     "end_time": "2022-10-25T14:05:11.774556Z",
     "start_time": "2022-10-25T14:05:11.765057Z"
    }
   },
   "outputs": [
    {
     "name": "stdout",
     "output_type": "stream",
     "text": [
      "a is greater than b\n"
     ]
    }
   ],
   "source": [
    "a = 200\n",
    "b = 33\n",
    "if b > a:\n",
    "  print(\"b is greater than a\")\n",
    "elif a == b:\n",
    "  print(\"a and b are equal\")\n",
    "else:\n",
    "  print(\"a is greater than b\")"
   ]
  },
  {
   "cell_type": "code",
   "execution_count": null,
   "id": "431939a9",
   "metadata": {},
   "outputs": [],
   "source": []
  },
  {
   "cell_type": "code",
   "execution_count": null,
   "id": "e07e01c7",
   "metadata": {},
   "outputs": [],
   "source": []
  },
  {
   "cell_type": "code",
   "execution_count": null,
   "id": "99aef36c",
   "metadata": {},
   "outputs": [],
   "source": []
  },
  {
   "cell_type": "code",
   "execution_count": null,
   "id": "753caedf",
   "metadata": {},
   "outputs": [],
   "source": []
  },
  {
   "cell_type": "code",
   "execution_count": null,
   "id": "2d0a1377",
   "metadata": {},
   "outputs": [],
   "source": []
  },
  {
   "cell_type": "code",
   "execution_count": null,
   "id": "5d8d17d7",
   "metadata": {},
   "outputs": [],
   "source": []
  },
  {
   "cell_type": "markdown",
   "id": "1cba2dd3",
   "metadata": {},
   "source": [
    "# for loop"
   ]
  },
  {
   "cell_type": "markdown",
   "id": "62631836",
   "metadata": {},
   "source": [
    "A “for-loop” allows you to iterate over a collection of items, and execute a block of code once for each iteration. For example, the following code will sum up all the positive numbers in a tuple:\n",
    "The general syntax for a “for-loop” is:\n",
    "for <var> in <iterable>:\n",
    "    block of code"
   ]
  },
  {
   "cell_type": "code",
   "execution_count": 31,
   "id": "35ec987b",
   "metadata": {
    "ExecuteTime": {
     "end_time": "2022-09-23T14:52:15.884437Z",
     "start_time": "2022-09-23T14:52:15.876449Z"
    },
    "code_folding": []
   },
   "outputs": [
    {
     "name": "stdout",
     "output_type": "stream",
     "text": [
      "b\n",
      "a\n",
      "n\n",
      "a\n",
      "n\n",
      "a\n"
     ]
    }
   ],
   "source": [
    "for x in \"banana\":\n",
    "  print(x)"
   ]
  },
  {
   "cell_type": "code",
   "execution_count": 48,
   "id": "c77c1e7f",
   "metadata": {
    "ExecuteTime": {
     "end_time": "2022-09-23T16:10:27.126691Z",
     "start_time": "2022-09-23T16:10:27.108996Z"
    }
   },
   "outputs": [
    {
     "name": "stdout",
     "output_type": "stream",
     "text": [
      "1\n",
      "3\n",
      "5\n",
      "7\n",
      "9\n"
     ]
    }
   ],
   "source": [
    "list = [1, 3, 5, 7, 9]\n",
    "   \n",
    "# Using for loop\n",
    "for i in list:\n",
    "    print(i)"
   ]
  },
  {
   "cell_type": "code",
   "execution_count": 6,
   "id": "42319535",
   "metadata": {
    "ExecuteTime": {
     "end_time": "2022-09-18T05:46:28.922540Z",
     "start_time": "2022-09-18T05:46:28.904111Z"
    },
    "code_folding": []
   },
   "outputs": [
    {
     "name": "stdout",
     "output_type": "stream",
     "text": [
      "1\n",
      "4\n",
      "9\n",
      "9\n"
     ]
    }
   ],
   "source": [
    "total = 0\n",
    "for num in (1,3,5):\n",
    "    if num > 0:\n",
    "        total = total + num\n",
    "        print (total)\n",
    "print (total)"
   ]
  },
  {
   "cell_type": "code",
   "execution_count": 9,
   "id": "5fc7dbf5",
   "metadata": {
    "ExecuteTime": {
     "end_time": "2022-09-18T05:47:37.016781Z",
     "start_time": "2022-09-18T05:47:37.001008Z"
    }
   },
   "outputs": [
    {
     "name": "stdout",
     "output_type": "stream",
     "text": [
      "Hello?\n",
      "3\n"
     ]
    }
   ],
   "source": [
    "for x in [3]:         # the iterable is empty - the iterate-variable `x` will not be defined\n",
    "    print(\"Hello?\")  # this code is never executed\n",
    "print(x)             # raises an error because `x` was never defined"
   ]
  },
  {
   "cell_type": "code",
   "execution_count": 11,
   "id": "6bddea3d",
   "metadata": {
    "ExecuteTime": {
     "end_time": "2022-09-18T05:52:54.867859Z",
     "start_time": "2022-09-18T05:52:54.858860Z"
    }
   },
   "outputs": [
    {
     "name": "stdout",
     "output_type": "stream",
     "text": [
      "a\n",
      "e\n",
      "i\n"
     ]
    }
   ],
   "source": [
    "for letter in \"abcdefghij\":\n",
    "    if letter in \"aeiou\":\n",
    "        print(letter)"
   ]
  },
  {
   "cell_type": "markdown",
   "id": "9c368e9a",
   "metadata": {},
   "source": [
    "# while loop "
   ]
  },
  {
   "cell_type": "markdown",
   "id": "ad61be1a",
   "metadata": {},
   "source": [
    "A “while-loop” allows you to repeat a block of code until a condition is no longer true:\n",
    "while <condition>:\n",
    "    block of code"
   ]
  },
  {
   "cell_type": "code",
   "execution_count": 8,
   "id": "2ceda21c",
   "metadata": {
    "ExecuteTime": {
     "end_time": "2022-10-25T14:14:26.276040Z",
     "start_time": "2022-10-25T14:14:26.257517Z"
    }
   },
   "outputs": [
    {
     "name": "stdout",
     "output_type": "stream",
     "text": [
      "1\n",
      "2\n",
      "3\n",
      "4\n",
      "5\n"
     ]
    }
   ],
   "source": [
    "#Print i as long as i is less than 6:\n",
    "\n",
    "i = 1\n",
    "while i < 6:\n",
    "  print(i)\n",
    "  i += 1"
   ]
  },
  {
   "cell_type": "code",
   "execution_count": 9,
   "id": "db5b5def",
   "metadata": {
    "ExecuteTime": {
     "end_time": "2022-10-25T14:15:42.908246Z",
     "start_time": "2022-10-25T14:15:42.897744Z"
    }
   },
   "outputs": [
    {
     "name": "stdout",
     "output_type": "stream",
     "text": [
      "1\n",
      "2\n",
      "3\n"
     ]
    }
   ],
   "source": [
    "#Exit the loop when i is 3:\n",
    "\n",
    "i = 1\n",
    "while i < 6:\n",
    "  print(i)\n",
    "  if i == 3:\n",
    "    break\n",
    "  i += 1"
   ]
  },
  {
   "cell_type": "code",
   "execution_count": 10,
   "id": "a3bbf53b",
   "metadata": {
    "ExecuteTime": {
     "end_time": "2022-10-25T14:18:51.893550Z",
     "start_time": "2022-10-25T14:18:51.878005Z"
    }
   },
   "outputs": [
    {
     "name": "stdout",
     "output_type": "stream",
     "text": [
      "1\n",
      "2\n",
      "4\n",
      "5\n",
      "6\n"
     ]
    }
   ],
   "source": [
    "#Continue to the next iteration if i is 3:\n",
    "\n",
    "i = 0\n",
    "while i < 6:\n",
    "  i += 1\n",
    "  if i == 3:\n",
    "    continue\n",
    "  print(i)"
   ]
  },
  {
   "cell_type": "code",
   "execution_count": 10,
   "id": "e8d0e56e",
   "metadata": {
    "ExecuteTime": {
     "end_time": "2022-09-18T05:50:24.702045Z",
     "start_time": "2022-09-18T05:50:24.690438Z"
    }
   },
   "outputs": [
    {
     "name": "stdout",
     "output_type": "stream",
     "text": [
      "2\n"
     ]
    }
   ],
   "source": [
    "# demonstrating a basic while-loop\n",
    "total = 0\n",
    "while total < 2:\n",
    "    total += 1  # equivalent to: `total = total + 1`\n",
    "\n",
    "print(total)  # `total` has the value"
   ]
  },
  {
   "cell_type": "code",
   "execution_count": 22,
   "id": "0c20116e",
   "metadata": {
    "ExecuteTime": {
     "end_time": "2022-09-18T06:25:15.435787Z",
     "start_time": "2022-09-18T06:25:15.424116Z"
    }
   },
   "outputs": [
    {
     "name": "stdout",
     "output_type": "stream",
     "text": [
      "120\n"
     ]
    }
   ],
   "source": [
    "x = [3, 4, 1, 2, 8, 10, -3, 0]\n",
    "num_loop = 0\n",
    "total = 0\n",
    "\n",
    "while total < 100:\n",
    "    for item in x:\n",
    "        # return to for-loop if\n",
    "        # `item` is odd-valued\n",
    "        if item % 2 == 1:\n",
    "            continue\n",
    "        else:\n",
    "            total += item\n",
    "    num_loop += 1\n",
    "\n",
    "    # break from while-loop if\n",
    "    # more than 50 items tallied\n",
    "    if 50 < num_loop:\n",
    "        break\n",
    "else:\n",
    "    print(total)"
   ]
  },
  {
   "cell_type": "markdown",
   "id": "83e51b2f",
   "metadata": {},
   "source": [
    "# count how many vowels are in a string."
   ]
  },
  {
   "cell_type": "code",
   "execution_count": 19,
   "id": "ccc4231d",
   "metadata": {
    "ExecuteTime": {
     "end_time": "2022-09-18T06:02:46.652408Z",
     "start_time": "2022-09-18T06:02:46.629822Z"
    }
   },
   "outputs": [],
   "source": [
    "def count_vowels(in_string):\n",
    "    \"\"\" Returns the number of vowels contained in `in_string`\"\"\"\n",
    "    num_vowels = 0\n",
    "    vowels = \"aeiouAEIOU\"\n",
    "\n",
    "    for char in in_string:\n",
    "        if char in vowels:\n",
    "            num_vowels += 1  # equivalent to num_vowels = num_vowels + 1\n",
    "    return num_vowels\n",
    "#print(num_vowels)"
   ]
  },
  {
   "cell_type": "code",
   "execution_count": 21,
   "id": "08582179",
   "metadata": {
    "ExecuteTime": {
     "end_time": "2022-09-18T06:23:15.425380Z",
     "start_time": "2022-09-18T06:23:15.410790Z"
    }
   },
   "outputs": [
    {
     "data": {
      "text/plain": [
       "8"
      ]
     },
     "execution_count": 21,
     "metadata": {},
     "output_type": "execute_result"
    }
   ],
   "source": [
    "count_vowels(\" hello my name is Debshree\")"
   ]
  },
  {
   "cell_type": "markdown",
   "id": "68aba472",
   "metadata": {},
   "source": [
    "# The def Statement"
   ]
  },
  {
   "cell_type": "markdown",
   "id": "31f09091",
   "metadata": {},
   "source": [
    "def <function name>(<function signature>):\n",
    "    \"\"\" documentation string \"\"\"\n",
    "    <encapsulated code>\n",
    "    return <object>"
   ]
  },
  {
   "cell_type": "markdown",
   "id": "46d1f85c",
   "metadata": {},
   "source": [
    "<function name> can be any valid variable name, and must be followed by parentheses and then a colon.\n",
    "\n",
    "<function signature> specifies the input arguments to the function, and may be left blank if the function does not accept any arguments (the parentheses must still be included, but will not encapsulate anything).\n",
    "\n",
    "The documentation string (commonly referred to as a “docstring”) may span multiple lines, and should indicate what the function’s purpose is. It is optional.\n",
    "\n",
    "<encapsulated code> can consist of general Python code, and is demarcated by being indented relative to the def statement.\n",
    "\n",
    "return if reached by the encapsulated code, triggers the function to return the specified object and end its own execution immediately.\n",
    "\n",
    "The return statement is also reserved by Python. It denotes the end of a function; if reached, a return statement immediately concludes the execution of the function and returns the specified object."
   ]
  },
  {
   "cell_type": "markdown",
   "id": "d431b973",
   "metadata": {},
   "source": [
    "# Arguments"
   ]
  },
  {
   "cell_type": "markdown",
   "id": "90cd3823",
   "metadata": {},
   "source": [
    "A sequence of comma-separated variable names can be specified in the function signature to indicated positional arguments for the function. For example, the following specifies x, lower, and upper as input arguments to a function, is_bounded:"
   ]
  },
  {
   "cell_type": "code",
   "execution_count": null,
   "id": "c14511de",
   "metadata": {},
   "outputs": [],
   "source": [
    "def is_bounded(x, lower, upper):\n",
    "    return lower <= x <= upper"
   ]
  },
  {
   "cell_type": "code",
   "execution_count": null,
   "id": "0974f654",
   "metadata": {},
   "outputs": [],
   "source": [
    "# evaluate: 2 <= 3 <= 4\n",
    "# specifying inputs based on position\n",
    ">>> is_bounded(3, 2, 4)\n",
    "True"
   ]
  },
  {
   "cell_type": "code",
   "execution_count": null,
   "id": "6736132b",
   "metadata": {},
   "outputs": [],
   "source": [
    "def count_vowels(in_string, include_y=False):\n",
    "    \"\"\" Returns the number of vowels contained in `in_string`\"\"\"\n",
    "    vowels = \"aeiouAEIOU\"\n",
    "    if include_y:\n",
    "        vowels += \"yY\"  # add \"y\" to vowels\n",
    "    return sum(1 for char in in_string if char in vowels)"
   ]
  },
  {
   "cell_type": "markdown",
   "id": "b4ee15aa",
   "metadata": {},
   "source": [
    "# Merging Two Dictionaries"
   ]
  },
  {
   "cell_type": "code",
   "execution_count": 12,
   "id": "4c496854",
   "metadata": {
    "ExecuteTime": {
     "end_time": "2022-09-19T14:55:41.621219Z",
     "start_time": "2022-09-19T14:55:41.595700Z"
    }
   },
   "outputs": [
    {
     "name": "stdout",
     "output_type": "stream",
     "text": [
      "{'India': 'Delhi', 'Canada': 'Ottawa', 'United States': 'Washington D. C.', 'France': 'Paris', 'Malaysia': 'Kuala Lumpur'}\n"
     ]
    }
   ],
   "source": [
    "d1 = {'India': 'Delhi',\n",
    "      'Canada': 'Ottawa',\n",
    "      'United States': 'Washington D. C.'}\n",
    "d2 = {'France': 'Paris',\n",
    "      'Malaysia': 'Kuala Lumpur'}\n",
    "d3 = d1.copy()\n",
    "for key, value in d2.items():\n",
    "    d3[key] = value\n",
    "    \n",
    "print(d3)"
   ]
  },
  {
   "cell_type": "markdown",
   "id": "50357b18",
   "metadata": {},
   "source": [
    "# LAMBDA Function"
   ]
  },
  {
   "cell_type": "markdown",
   "id": "1f681116",
   "metadata": {},
   "source": [
    "Sometimes, we don’t want to use the normal way to define a function, especially if our function is just one line. In this case, we can use anonymous function in Python, which is a function that is defined without a name. This type of functions also called labmda function, since they are defined using the labmda keyword. A typical lambda function is defined:\n",
    "\n",
    "lambda arguments: expression"
   ]
  },
  {
   "cell_type": "code",
   "execution_count": 1,
   "id": "608603b4",
   "metadata": {
    "ExecuteTime": {
     "end_time": "2022-09-23T05:47:03.954665Z",
     "start_time": "2022-09-23T05:47:03.928639Z"
    }
   },
   "outputs": [
    {
     "name": "stdout",
     "output_type": "stream",
     "text": [
      "4\n",
      "25\n"
     ]
    }
   ],
   "source": [
    "# Define a labmda function, which square the input number. \n",
    "#And call the function with input 2 and 5.\n",
    "square = lambda x: x**2 #x is the argument and x**2 is the expression that gets evaluated and returned.\n",
    "\n",
    "print(square(2))\n",
    "print(square(5))"
   ]
  },
  {
   "cell_type": "code",
   "execution_count": 2,
   "id": "db0c8205",
   "metadata": {
    "ExecuteTime": {
     "end_time": "2022-09-23T05:48:38.699633Z",
     "start_time": "2022-09-23T05:48:38.689673Z"
    }
   },
   "outputs": [
    {
     "name": "stdout",
     "output_type": "stream",
     "text": [
      "6\n"
     ]
    }
   ],
   "source": [
    "#Define a labmda function, which add x and y\n",
    "my_adder = lambda x, y: x + y\n",
    "\n",
    "print(my_adder(2, 4))"
   ]
  },
  {
   "cell_type": "code",
   "execution_count": 11,
   "id": "32142d5c",
   "metadata": {
    "ExecuteTime": {
     "end_time": "2022-10-25T14:29:33.656700Z",
     "start_time": "2022-10-25T14:29:33.625489Z"
    }
   },
   "outputs": [
    {
     "data": {
      "text/plain": [
       "[(2, 0), (4, 1), (1, 2)]"
      ]
     },
     "execution_count": 11,
     "metadata": {},
     "output_type": "execute_result"
    }
   ],
   "source": [
    "#Sort [(1, 2), (2, 0), (4, 1)] based on the 2nd item in the tuple.\n",
    "sorted([(1, 2), (2, 0), (4, 1)], key=lambda x: x[1])"
   ]
  },
  {
   "cell_type": "code",
   "execution_count": 7,
   "id": "d786bb0f",
   "metadata": {
    "ExecuteTime": {
     "end_time": "2022-09-23T08:24:18.384270Z",
     "start_time": "2022-09-23T08:24:18.363036Z"
    }
   },
   "outputs": [
    {
     "name": "stdout",
     "output_type": "stream",
     "text": [
      "22\n"
     ]
    }
   ],
   "source": [
    "def myfunc(n):\n",
    "  return lambda a : a * n\n",
    "mydoubler = myfunc(2)\n",
    "\n",
    "print(mydoubler(11))"
   ]
  },
  {
   "cell_type": "code",
   "execution_count": 8,
   "id": "37b20a06",
   "metadata": {
    "ExecuteTime": {
     "end_time": "2022-09-23T08:25:19.540785Z",
     "start_time": "2022-09-23T08:25:19.517767Z"
    }
   },
   "outputs": [
    {
     "name": "stdout",
     "output_type": "stream",
     "text": [
      "33\n"
     ]
    }
   ],
   "source": [
    "def myfunc(n):\n",
    "  return lambda a : a * n\n",
    "\n",
    "mytripler = myfunc(3)\n",
    "\n",
    "print(mytripler(11))"
   ]
  },
  {
   "cell_type": "code",
   "execution_count": 9,
   "id": "a95f4603",
   "metadata": {
    "ExecuteTime": {
     "end_time": "2022-09-23T08:25:38.700642Z",
     "start_time": "2022-09-23T08:25:38.691657Z"
    }
   },
   "outputs": [
    {
     "name": "stdout",
     "output_type": "stream",
     "text": [
      "22\n",
      "33\n"
     ]
    }
   ],
   "source": [
    "def myfunc(n):\n",
    "  return lambda a : a * n\n",
    "\n",
    "mydoubler = myfunc(2)\n",
    "mytripler = myfunc(3)\n",
    "\n",
    "print(mydoubler(11))\n",
    "print(mytripler(11))"
   ]
  },
  {
   "cell_type": "code",
   "execution_count": null,
   "id": "f7f08844",
   "metadata": {},
   "outputs": [],
   "source": []
  },
  {
   "cell_type": "code",
   "execution_count": null,
   "id": "b28b407f",
   "metadata": {},
   "outputs": [],
   "source": []
  },
  {
   "cell_type": "code",
   "execution_count": null,
   "id": "994db063",
   "metadata": {},
   "outputs": [],
   "source": []
  },
  {
   "cell_type": "code",
   "execution_count": null,
   "id": "ab60b6f3",
   "metadata": {},
   "outputs": [],
   "source": []
  },
  {
   "cell_type": "code",
   "execution_count": null,
   "id": "9b83fb0f",
   "metadata": {},
   "outputs": [],
   "source": []
  },
  {
   "cell_type": "code",
   "execution_count": null,
   "id": "486ce742",
   "metadata": {},
   "outputs": [],
   "source": []
  },
  {
   "cell_type": "code",
   "execution_count": null,
   "id": "4ee22b7a",
   "metadata": {},
   "outputs": [],
   "source": []
  },
  {
   "cell_type": "code",
   "execution_count": null,
   "id": "fe7d8e4b",
   "metadata": {},
   "outputs": [],
   "source": []
  },
  {
   "cell_type": "code",
   "execution_count": null,
   "id": "2ee63d98",
   "metadata": {},
   "outputs": [],
   "source": []
  },
  {
   "cell_type": "markdown",
   "id": "c1325192",
   "metadata": {},
   "source": [
    "#  NumPy"
   ]
  },
  {
   "cell_type": "markdown",
   "id": "ef7baa25",
   "metadata": {},
   "source": [
    "## Introducing the ND-array"
   ]
  },
  {
   "cell_type": "code",
   "execution_count": 1,
   "id": "fa95e1d2",
   "metadata": {
    "ExecuteTime": {
     "end_time": "2022-09-22T05:49:16.331032Z",
     "start_time": "2022-09-22T05:49:16.111454Z"
    }
   },
   "outputs": [],
   "source": [
    "import numpy as np"
   ]
  },
  {
   "cell_type": "markdown",
   "id": "1f79b7d8",
   "metadata": {},
   "source": [
    "There are two major features that makes the ND-array special. It can:\n",
    "\n",
    "1. Provide an interface for its underlying data to be accessed along multiple dimensions.\n",
    "\n",
    "2. Rapidly perform mathematical operations over all of its elements, or over patterned subsequences of its elements, using compiled C code instead of Python; this is a process called vectorization."
   ]
  },
  {
   "cell_type": "markdown",
   "id": "988bf403",
   "metadata": {},
   "source": [
    "### 1D array creation functions"
   ]
  },
  {
   "cell_type": "code",
   "execution_count": 2,
   "id": "d99b06f5",
   "metadata": {
    "ExecuteTime": {
     "end_time": "2022-09-21T06:08:01.331272Z",
     "start_time": "2022-09-21T06:08:01.311227Z"
    }
   },
   "outputs": [],
   "source": [
    "x = np.array([0, 1, 2, 3, 4, 5, 6, 7, 8])"
   ]
  },
  {
   "cell_type": "code",
   "execution_count": 3,
   "id": "9be22c2d",
   "metadata": {
    "ExecuteTime": {
     "end_time": "2022-09-21T06:08:01.917927Z",
     "start_time": "2022-09-21T06:08:01.879753Z"
    }
   },
   "outputs": [
    {
     "data": {
      "text/plain": [
       "array([2., 3., 4., 5., 6., 7., 8., 9.])"
      ]
     },
     "execution_count": 3,
     "metadata": {},
     "output_type": "execute_result"
    }
   ],
   "source": [
    "np.arange(2, 10, dtype=float)"
   ]
  },
  {
   "cell_type": "code",
   "execution_count": 4,
   "id": "4bedc7bc",
   "metadata": {
    "ExecuteTime": {
     "end_time": "2022-09-21T06:08:02.462813Z",
     "start_time": "2022-09-21T06:08:02.444302Z"
    }
   },
   "outputs": [
    {
     "data": {
      "text/plain": [
       "array([2. , 2.1, 2.2, 2.3, 2.4, 2.5, 2.6, 2.7, 2.8, 2.9])"
      ]
     },
     "execution_count": 4,
     "metadata": {},
     "output_type": "execute_result"
    }
   ],
   "source": [
    "np.arange(2, 3, 0.1)"
   ]
  },
  {
   "cell_type": "markdown",
   "id": "d9c9ce29",
   "metadata": {},
   "source": [
    "### use of linspace"
   ]
  },
  {
   "cell_type": "code",
   "execution_count": 5,
   "id": "2da52582",
   "metadata": {
    "ExecuteTime": {
     "end_time": "2022-09-21T06:08:03.562438Z",
     "start_time": "2022-09-21T06:08:03.527162Z"
    }
   },
   "outputs": [
    {
     "data": {
      "text/plain": [
       "array([1. , 1.6, 2.2, 2.8, 3.4, 4. ])"
      ]
     },
     "execution_count": 5,
     "metadata": {},
     "output_type": "execute_result"
    }
   ],
   "source": [
    "np.linspace(1., 4., 6)"
   ]
  },
  {
   "cell_type": "code",
   "execution_count": 6,
   "id": "db2abe7c",
   "metadata": {
    "ExecuteTime": {
     "end_time": "2022-09-21T06:08:04.121667Z",
     "start_time": "2022-09-21T06:08:04.110811Z"
    }
   },
   "outputs": [
    {
     "data": {
      "text/plain": [
       "True"
      ]
     },
     "execution_count": 6,
     "metadata": {},
     "output_type": "execute_result"
    }
   ],
   "source": [
    "# An ND-array belongs to the type `numpy.ndarray`\n",
    "type(x)\n",
    "np.ndarray\n",
    "\n",
    "isinstance(x, np.ndarray)"
   ]
  },
  {
   "cell_type": "code",
   "execution_count": 7,
   "id": "8e6b01e1",
   "metadata": {
    "ExecuteTime": {
     "end_time": "2022-09-21T06:08:05.242443Z",
     "start_time": "2022-09-21T06:08:05.223545Z"
    }
   },
   "outputs": [
    {
     "data": {
      "text/plain": [
       "(9,)"
      ]
     },
     "execution_count": 7,
     "metadata": {},
     "output_type": "execute_result"
    }
   ],
   "source": [
    "np.shape(x)"
   ]
  },
  {
   "cell_type": "markdown",
   "id": "65dcf3ba",
   "metadata": {},
   "source": [
    "### 2D array creation functions"
   ]
  },
  {
   "cell_type": "markdown",
   "id": "4b51a457",
   "metadata": {},
   "source": [
    "The 2D array creation functions e.g. numpy.eye, numpy.diag, and numpy.vander define properties of special matrices represented as 2D arrays.\n",
    "\n",
    "np.eye(n, m) defines a 2D identity matrix. The elements where i=j (row index and column index are equal) are 1 and the rest are 0, as such:"
   ]
  },
  {
   "cell_type": "code",
   "execution_count": 8,
   "id": "c9b1fd11",
   "metadata": {
    "ExecuteTime": {
     "end_time": "2022-09-21T06:08:07.502659Z",
     "start_time": "2022-09-21T06:08:07.496079Z"
    }
   },
   "outputs": [
    {
     "data": {
      "text/plain": [
       "array([[1., 0., 0.],\n",
       "       [0., 1., 0.],\n",
       "       [0., 0., 1.]])"
      ]
     },
     "execution_count": 8,
     "metadata": {},
     "output_type": "execute_result"
    }
   ],
   "source": [
    "np.eye(3)"
   ]
  },
  {
   "cell_type": "code",
   "execution_count": 9,
   "id": "9a196ade",
   "metadata": {
    "ExecuteTime": {
     "end_time": "2022-09-21T06:08:08.142844Z",
     "start_time": "2022-09-21T06:08:08.135463Z"
    }
   },
   "outputs": [
    {
     "data": {
      "text/plain": [
       "array([[1., 0., 0., 0., 0.],\n",
       "       [0., 1., 0., 0., 0.],\n",
       "       [0., 0., 1., 0., 0.]])"
      ]
     },
     "execution_count": 9,
     "metadata": {},
     "output_type": "execute_result"
    }
   ],
   "source": [
    "np.eye(3, 5)"
   ]
  },
  {
   "cell_type": "markdown",
   "id": "c3e05c01",
   "metadata": {},
   "source": [
    "numpy.diag can define either a square 2D array with given values along the diagonal or if given a 2D array returns a 1D array that is only the diagonal elements. The two array creation functions can be helpful while doing linear algebra, as such:"
   ]
  },
  {
   "cell_type": "code",
   "execution_count": 10,
   "id": "2814d83d",
   "metadata": {
    "ExecuteTime": {
     "end_time": "2022-09-21T06:08:10.119705Z",
     "start_time": "2022-09-21T06:08:10.100549Z"
    }
   },
   "outputs": [
    {
     "data": {
      "text/plain": [
       "array([[1, 0, 0],\n",
       "       [0, 2, 0],\n",
       "       [0, 0, 3]])"
      ]
     },
     "execution_count": 10,
     "metadata": {},
     "output_type": "execute_result"
    }
   ],
   "source": [
    "np.diag([1, 2, 3])"
   ]
  },
  {
   "cell_type": "code",
   "execution_count": 11,
   "id": "62cef439",
   "metadata": {
    "ExecuteTime": {
     "end_time": "2022-09-21T06:08:10.650303Z",
     "start_time": "2022-09-21T06:08:10.628193Z"
    }
   },
   "outputs": [
    {
     "data": {
      "text/plain": [
       "array([[0, 1, 0, 0],\n",
       "       [0, 0, 2, 0],\n",
       "       [0, 0, 0, 3],\n",
       "       [0, 0, 0, 0]])"
      ]
     },
     "execution_count": 11,
     "metadata": {},
     "output_type": "execute_result"
    }
   ],
   "source": [
    "np.diag([1, 2, 3], 1)"
   ]
  },
  {
   "cell_type": "markdown",
   "id": "ba066b32",
   "metadata": {},
   "source": [
    "vander(x, n) defines a Vandermonde matrix as a 2D NumPy array. Each column of the Vandermonde matrix is a decreasing power of the input 1D array or list or tuple, x where the highest polynomial order is n-1. This array creation routine is helpful in generating linear least squares models, as such:"
   ]
  },
  {
   "cell_type": "code",
   "execution_count": 12,
   "id": "a4637610",
   "metadata": {
    "ExecuteTime": {
     "end_time": "2022-09-21T06:08:11.863717Z",
     "start_time": "2022-09-21T06:08:11.840121Z"
    }
   },
   "outputs": [
    {
     "data": {
      "text/plain": [
       "array([[0. , 1. ],\n",
       "       [0.5, 1. ],\n",
       "       [1. , 1. ],\n",
       "       [1.5, 1. ],\n",
       "       [2. , 1. ]])"
      ]
     },
     "execution_count": 12,
     "metadata": {},
     "output_type": "execute_result"
    }
   ],
   "source": [
    "np.vander(np.linspace(0, 2, 5), 2)"
   ]
  },
  {
   "cell_type": "code",
   "execution_count": 13,
   "id": "f4e9a0dc",
   "metadata": {
    "ExecuteTime": {
     "end_time": "2022-09-21T06:08:12.780887Z",
     "start_time": "2022-09-21T06:08:12.769110Z"
    }
   },
   "outputs": [
    {
     "data": {
      "text/plain": [
       "array([[1, 1],\n",
       "       [2, 1],\n",
       "       [3, 1],\n",
       "       [4, 1]])"
      ]
     },
     "execution_count": 13,
     "metadata": {},
     "output_type": "execute_result"
    }
   ],
   "source": [
    "np.vander([1, 2, 3, 4], 2)"
   ]
  },
  {
   "cell_type": "code",
   "execution_count": 14,
   "id": "c56de0e6",
   "metadata": {
    "ExecuteTime": {
     "end_time": "2022-09-21T06:08:14.101811Z",
     "start_time": "2022-09-21T06:08:14.091767Z"
    }
   },
   "outputs": [
    {
     "data": {
      "text/plain": [
       "array([[ 1,  1,  1,  1],\n",
       "       [ 8,  4,  2,  1],\n",
       "       [27,  9,  3,  1],\n",
       "       [64, 16,  4,  1]])"
      ]
     },
     "execution_count": 14,
     "metadata": {},
     "output_type": "execute_result"
    }
   ],
   "source": [
    "np.vander((1, 2, 3, 4), 4)"
   ]
  },
  {
   "cell_type": "markdown",
   "id": "fc2c0c5d",
   "metadata": {},
   "source": [
    "### general ndarray creation functions"
   ]
  },
  {
   "cell_type": "markdown",
   "id": "be812afd",
   "metadata": {},
   "source": [
    "The ndarray creation functions e.g. numpy.ones, numpy.zeros, and random define arrays based upon the desired shape. The ndarray creation functions can create arrays with any dimension by specifying how many dimensions and length along that dimension in a tuple or list.\n",
    "\n",
    "numpy.zeros will create an array filled with 0 values with the specified shape. The default dtype is float64:"
   ]
  },
  {
   "cell_type": "code",
   "execution_count": 17,
   "id": "63ab13d4",
   "metadata": {
    "ExecuteTime": {
     "end_time": "2022-09-21T06:24:58.296000Z",
     "start_time": "2022-09-21T06:24:58.282299Z"
    }
   },
   "outputs": [
    {
     "data": {
      "text/plain": [
       "array([[0., 0.],\n",
       "       [0., 0.],\n",
       "       [0., 0.]])"
      ]
     },
     "execution_count": 17,
     "metadata": {},
     "output_type": "execute_result"
    }
   ],
   "source": [
    "np.zeros((3, 2)) # 3 ARRAY, 2 COLUMN"
   ]
  },
  {
   "cell_type": "code",
   "execution_count": 18,
   "id": "33b26012",
   "metadata": {
    "ExecuteTime": {
     "end_time": "2022-09-21T06:26:05.760434Z",
     "start_time": "2022-09-21T06:26:05.740686Z"
    }
   },
   "outputs": [
    {
     "data": {
      "text/plain": [
       "array([[0., 0., 0.],\n",
       "       [0., 0., 0.]])"
      ]
     },
     "execution_count": 18,
     "metadata": {},
     "output_type": "execute_result"
    }
   ],
   "source": [
    "np.zeros((2, 3)) # 2 ARRAY, 3 COLUMN"
   ]
  },
  {
   "cell_type": "code",
   "execution_count": 16,
   "id": "6a6981d0",
   "metadata": {
    "ExecuteTime": {
     "end_time": "2022-09-21T06:23:02.813016Z",
     "start_time": "2022-09-21T06:23:02.803882Z"
    }
   },
   "outputs": [
    {
     "data": {
      "text/plain": [
       "array([[[0., 0.],\n",
       "        [0., 0.],\n",
       "        [0., 0.]],\n",
       "\n",
       "       [[0., 0.],\n",
       "        [0., 0.],\n",
       "        [0., 0.]]])"
      ]
     },
     "execution_count": 16,
     "metadata": {},
     "output_type": "execute_result"
    }
   ],
   "source": [
    "np.zeros((2, 3, 2)) # 2 MAIN ARRAY, 3 SUB ARRAY, 2 COLUMN"
   ]
  },
  {
   "cell_type": "code",
   "execution_count": 20,
   "id": "2f0a90de",
   "metadata": {
    "ExecuteTime": {
     "end_time": "2022-09-21T06:27:56.568326Z",
     "start_time": "2022-09-21T06:27:56.551590Z"
    }
   },
   "outputs": [
    {
     "data": {
      "text/plain": [
       "array([[[0., 0., 0.],\n",
       "        [0., 0., 0.]],\n",
       "\n",
       "       [[0., 0., 0.],\n",
       "        [0., 0., 0.]],\n",
       "\n",
       "       [[0., 0., 0.],\n",
       "        [0., 0., 0.]]])"
      ]
     },
     "execution_count": 20,
     "metadata": {},
     "output_type": "execute_result"
    }
   ],
   "source": [
    "np.zeros((3, 2, 3)) # 3 MAIN ARRAY, 2 SUB ARRAY, 3 COLUMN"
   ]
  },
  {
   "cell_type": "code",
   "execution_count": 21,
   "id": "463474a2",
   "metadata": {
    "ExecuteTime": {
     "end_time": "2022-09-21T06:29:35.717205Z",
     "start_time": "2022-09-21T06:29:35.704863Z"
    }
   },
   "outputs": [
    {
     "data": {
      "text/plain": [
       "array([[1., 1., 1.],\n",
       "       [1., 1., 1.]])"
      ]
     },
     "execution_count": 21,
     "metadata": {},
     "output_type": "execute_result"
    }
   ],
   "source": [
    "np.ones((2, 3))"
   ]
  },
  {
   "cell_type": "code",
   "execution_count": 22,
   "id": "6b5a085f",
   "metadata": {
    "ExecuteTime": {
     "end_time": "2022-09-21T06:29:37.442975Z",
     "start_time": "2022-09-21T06:29:37.422023Z"
    }
   },
   "outputs": [
    {
     "data": {
      "text/plain": [
       "array([[[1., 1.],\n",
       "        [1., 1.],\n",
       "        [1., 1.]],\n",
       "\n",
       "       [[1., 1.],\n",
       "        [1., 1.],\n",
       "        [1., 1.]]])"
      ]
     },
     "execution_count": 22,
     "metadata": {},
     "output_type": "execute_result"
    }
   ],
   "source": [
    "np.ones((2, 3, 2))"
   ]
  },
  {
   "cell_type": "markdown",
   "id": "54039f4d",
   "metadata": {},
   "source": [
    "The random method of the result of default_rng will create an array filled with random values between 0 and 1. It is included with the numpy.random library. Below, two arrays are created with shapes (2,3) and (2,3,2), respectively. The seed is set to 42 so you can reproduce these pseudorandom numbers:\n",
    "The numpy random seed is a numerical value that generates a new set or repeats pseudo-random numbers."
   ]
  },
  {
   "cell_type": "code",
   "execution_count": 23,
   "id": "5c29a307",
   "metadata": {
    "ExecuteTime": {
     "end_time": "2022-09-21T06:30:50.385773Z",
     "start_time": "2022-09-21T06:30:50.376131Z"
    }
   },
   "outputs": [],
   "source": [
    "from numpy.random import default_rng"
   ]
  },
  {
   "cell_type": "code",
   "execution_count": 41,
   "id": "38f617c2",
   "metadata": {
    "ExecuteTime": {
     "end_time": "2022-09-21T06:44:36.479373Z",
     "start_time": "2022-09-21T06:44:36.463286Z"
    }
   },
   "outputs": [
    {
     "data": {
      "text/plain": [
       "array([[0.77395605, 0.43887844, 0.85859792],\n",
       "       [0.69736803, 0.09417735, 0.97562235]])"
      ]
     },
     "execution_count": 41,
     "metadata": {},
     "output_type": "execute_result"
    }
   ],
   "source": [
    "default_rng(42).random((2,3))"
   ]
  },
  {
   "cell_type": "code",
   "execution_count": 42,
   "id": "ae7b235b",
   "metadata": {
    "ExecuteTime": {
     "end_time": "2022-09-21T06:44:41.209070Z",
     "start_time": "2022-09-21T06:44:41.197858Z"
    }
   },
   "outputs": [
    {
     "data": {
      "text/plain": [
       "array([[[0.77395605, 0.43887844],\n",
       "        [0.85859792, 0.69736803],\n",
       "        [0.09417735, 0.97562235]],\n",
       "\n",
       "       [[0.7611397 , 0.78606431],\n",
       "        [0.12811363, 0.45038594],\n",
       "        [0.37079802, 0.92676499]]])"
      ]
     },
     "execution_count": 42,
     "metadata": {},
     "output_type": "execute_result"
    }
   ],
   "source": [
    "default_rng(42).random((2,3,2))"
   ]
  },
  {
   "cell_type": "markdown",
   "id": "b2d3ce4a",
   "metadata": {},
   "source": [
    "numpy.indices will create a set of arrays (stacked as a one-higher dimensioned array), one per dimension with each representing variation in that dimension:"
   ]
  },
  {
   "cell_type": "code",
   "execution_count": 43,
   "id": "bad38801",
   "metadata": {
    "ExecuteTime": {
     "end_time": "2022-09-21T06:45:46.391251Z",
     "start_time": "2022-09-21T06:45:46.372568Z"
    }
   },
   "outputs": [
    {
     "data": {
      "text/plain": [
       "array([[[0, 0, 0],\n",
       "        [1, 1, 1],\n",
       "        [2, 2, 2]],\n",
       "\n",
       "       [[0, 1, 2],\n",
       "        [0, 1, 2],\n",
       "        [0, 1, 2]]])"
      ]
     },
     "execution_count": 43,
     "metadata": {},
     "output_type": "execute_result"
    }
   ],
   "source": [
    "np.indices((3,3))"
   ]
  },
  {
   "cell_type": "markdown",
   "id": "72affe3a",
   "metadata": {},
   "source": [
    "numpy.ones will create an array filled with 1 values. It is identical to zeros in all other respects as such:"
   ]
  },
  {
   "cell_type": "code",
   "execution_count": 41,
   "id": "0555ca7a",
   "metadata": {
    "ExecuteTime": {
     "end_time": "2022-09-19T16:06:48.392947Z",
     "start_time": "2022-09-19T16:06:48.363224Z"
    }
   },
   "outputs": [
    {
     "data": {
      "text/plain": [
       "array([1, 4])"
      ]
     },
     "execution_count": 41,
     "metadata": {},
     "output_type": "execute_result"
    }
   ],
   "source": [
    "a = np.array([[1, 2], [3, 4]])\n",
    "np.diag(a)"
   ]
  },
  {
   "cell_type": "markdown",
   "id": "30c72231",
   "metadata": {},
   "source": [
    "### Replicating, joining, or mutating existing arrays"
   ]
  },
  {
   "cell_type": "markdown",
   "id": "3ec06cca",
   "metadata": {
    "ExecuteTime": {
     "end_time": "2022-09-19T15:37:24.126057Z",
     "start_time": "2022-09-19T15:37:24.108459Z"
    }
   },
   "source": [
    "When you assign an array or its elements to a new variable, you have to explicitly numpy.copy the array, otherwise the variable is a view into the original array. Consider the following example:\n",
    "In this example, you did not create a new array. You created a variable, b that viewed the first 2 elements of a. When you added 1 to b you would get the same result by adding 1 to a[:2]."
   ]
  },
  {
   "cell_type": "code",
   "execution_count": 52,
   "id": "43e71dfd",
   "metadata": {
    "ExecuteTime": {
     "end_time": "2022-09-21T07:01:29.144727Z",
     "start_time": "2022-09-21T07:01:29.131714Z"
    }
   },
   "outputs": [
    {
     "name": "stdout",
     "output_type": "stream",
     "text": [
      "a = [2 3 3 4 5 6] ; b = [2 3]\n"
     ]
    }
   ],
   "source": [
    "a = np.array([1, 2, 3, 4, 5, 6])\n",
    "b = a[:2]\n",
    "b += 1\n",
    "print('a =', a, '; b =', b)"
   ]
  },
  {
   "cell_type": "markdown",
   "id": "a3732bb9",
   "metadata": {},
   "source": [
    "If you want to create a new array, use the numpy.copy array creation routine as such:"
   ]
  },
  {
   "cell_type": "code",
   "execution_count": 53,
   "id": "87e8a9bf",
   "metadata": {
    "ExecuteTime": {
     "end_time": "2022-09-21T07:05:29.552876Z",
     "start_time": "2022-09-21T07:05:29.531258Z"
    }
   },
   "outputs": [
    {
     "name": "stdout",
     "output_type": "stream",
     "text": [
      "a =  [1 2 3 4] b =  [2 3]\n"
     ]
    }
   ],
   "source": [
    "a = np.array([1, 2, 3, 4])\n",
    "b = a[:2].copy()\n",
    "b += 1\n",
    "print('a = ', a, 'b = ', b)"
   ]
  },
  {
   "cell_type": "markdown",
   "id": "39de059f",
   "metadata": {},
   "source": [
    "There are a number of routines to join existing arrays e.g. numpy.vstack, numpy.hstack, and numpy.block. Here is an example of joining four 2-by-2 arrays into a 4-by-4 array using block:"
   ]
  },
  {
   "cell_type": "code",
   "execution_count": 54,
   "id": "c6009f78",
   "metadata": {
    "ExecuteTime": {
     "end_time": "2022-09-21T07:07:50.228051Z",
     "start_time": "2022-09-21T07:07:50.209663Z"
    }
   },
   "outputs": [
    {
     "data": {
      "text/plain": [
       "array([[ 1.,  1.,  1.,  0.],\n",
       "       [ 1.,  1.,  0.,  1.],\n",
       "       [ 0.,  0., -3.,  0.],\n",
       "       [ 0.,  0.,  0., -4.]])"
      ]
     },
     "execution_count": 54,
     "metadata": {},
     "output_type": "execute_result"
    }
   ],
   "source": [
    "A = np.ones((2, 2))\n",
    "B = np.eye(2, 2)\n",
    "C = np.zeros((2, 2))\n",
    "D = np.diag((-3, -4))\n",
    "np.block([[A, B], [C, D]])"
   ]
  },
  {
   "cell_type": "code",
   "execution_count": null,
   "id": "2c5ffb0d",
   "metadata": {},
   "outputs": [],
   "source": []
  },
  {
   "cell_type": "code",
   "execution_count": 22,
   "id": "040a88ea",
   "metadata": {
    "ExecuteTime": {
     "end_time": "2022-09-19T15:05:59.770419Z",
     "start_time": "2022-09-19T15:05:59.754953Z"
    }
   },
   "outputs": [
    {
     "data": {
      "text/plain": [
       "array([[0, 1, 2],\n",
       "       [3, 4, 5],\n",
       "       [6, 7, 8]])"
      ]
     },
     "execution_count": 22,
     "metadata": {},
     "output_type": "execute_result"
    }
   ],
   "source": [
    "# We can “reshape” this array so that its contents can be accessed along 2 dimensions:\n",
    "x=x.reshape(3,3)\n",
    "x"
   ]
  },
  {
   "cell_type": "markdown",
   "id": "edec9c98",
   "metadata": {},
   "source": [
    "### multiply matrix elements by 2"
   ]
  },
  {
   "cell_type": "code",
   "execution_count": 23,
   "id": "3f2d81ec",
   "metadata": {
    "ExecuteTime": {
     "end_time": "2022-09-19T15:09:57.671916Z",
     "start_time": "2022-09-19T15:09:57.644941Z"
    }
   },
   "outputs": [
    {
     "data": {
      "text/plain": [
       "array([[ 0,  1,  4],\n",
       "       [ 9, 16, 25],\n",
       "       [36, 49, 64]], dtype=int32)"
      ]
     },
     "execution_count": 23,
     "metadata": {},
     "output_type": "execute_result"
    }
   ],
   "source": [
    "#We will utilize one of NumPy’s “vectorized” functions to square each entry in the array (without us needing to write a for-loop)\n",
    "np.power(x, 2)  # can also be calculated using the shorthand: x**2"
   ]
  },
  {
   "cell_type": "markdown",
   "id": "e99dd2f3",
   "metadata": {},
   "source": [
    "### mean value of rows"
   ]
  },
  {
   "cell_type": "code",
   "execution_count": 26,
   "id": "e8fffab9",
   "metadata": {
    "ExecuteTime": {
     "end_time": "2022-09-19T15:16:48.891708Z",
     "start_time": "2022-09-19T15:16:48.877924Z"
    }
   },
   "outputs": [
    {
     "data": {
      "text/plain": [
       "array([1., 4., 7.])"
      ]
     },
     "execution_count": 26,
     "metadata": {},
     "output_type": "execute_result"
    }
   ],
   "source": [
    "#mean value along the three distinct rows of our data:\n",
    "np.mean(x, axis=1)"
   ]
  },
  {
   "cell_type": "markdown",
   "id": "8cc16250",
   "metadata": {},
   "source": [
    "### broadcasting to raise each column of x to a different power:"
   ]
  },
  {
   "cell_type": "code",
   "execution_count": 27,
   "id": "37888d0b",
   "metadata": {
    "ExecuteTime": {
     "end_time": "2022-09-19T15:34:56.677726Z",
     "start_time": "2022-09-19T15:34:56.639755Z"
    }
   },
   "outputs": [
    {
     "data": {
      "text/plain": [
       "array([[ 1.,  1.,  4.],\n",
       "       [ 1.,  4., 25.],\n",
       "       [ 1.,  7., 64.]])"
      ]
     },
     "execution_count": 27,
     "metadata": {},
     "output_type": "execute_result"
    }
   ],
   "source": [
    "x ** np.array([0., 1., 2.])"
   ]
  },
  {
   "cell_type": "markdown",
   "id": "7d30bb18",
   "metadata": {},
   "source": [
    "### multi-dimensional slices of x"
   ]
  },
  {
   "cell_type": "code",
   "execution_count": 29,
   "id": "91d8cd4c",
   "metadata": {
    "ExecuteTime": {
     "end_time": "2022-09-19T15:41:10.024161Z",
     "start_time": "2022-09-19T15:41:09.999918Z"
    }
   },
   "outputs": [
    {
     "data": {
      "text/plain": [
       "array([[0, 1, 2],\n",
       "       [3, 4, 5]])"
      ]
     },
     "execution_count": 29,
     "metadata": {},
     "output_type": "execute_result"
    }
   ],
   "source": [
    "x[:2, :3]"
   ]
  },
  {
   "cell_type": "code",
   "execution_count": 30,
   "id": "e2aec1a2",
   "metadata": {
    "ExecuteTime": {
     "end_time": "2022-09-19T15:41:51.821440Z",
     "start_time": "2022-09-19T15:41:51.792183Z"
    }
   },
   "outputs": [
    {
     "data": {
      "text/plain": [
       "array([[0, 1],\n",
       "       [3, 4],\n",
       "       [6, 7]])"
      ]
     },
     "execution_count": 30,
     "metadata": {},
     "output_type": "execute_result"
    }
   ],
   "source": [
    "x[:3, :2]"
   ]
  },
  {
   "cell_type": "code",
   "execution_count": 31,
   "id": "83297352",
   "metadata": {
    "ExecuteTime": {
     "end_time": "2022-09-19T15:42:26.077886Z",
     "start_time": "2022-09-19T15:42:26.054026Z"
    }
   },
   "outputs": [
    {
     "data": {
      "text/plain": [
       "array([[1, 2],\n",
       "       [4, 5]])"
      ]
     },
     "execution_count": 31,
     "metadata": {},
     "output_type": "execute_result"
    }
   ],
   "source": [
    "x[:2, 1:]"
   ]
  },
  {
   "cell_type": "code",
   "execution_count": 33,
   "id": "d29dcd8a",
   "metadata": {
    "ExecuteTime": {
     "end_time": "2022-09-19T15:44:49.109107Z",
     "start_time": "2022-09-19T15:44:49.069095Z"
    }
   },
   "outputs": [
    {
     "data": {
      "text/plain": [
       "array([[ 0,  1, -2],\n",
       "       [ 3, -4,  5],\n",
       "       [-6,  7, -8]])"
      ]
     },
     "execution_count": 33,
     "metadata": {},
     "output_type": "execute_result"
    }
   ],
   "source": [
    "#Advanced indexing can be used to access all even-valued entries of x; let’s update x so that all of its even-valued entries are multiplied by -1:\n",
    "x[x % 2 == 0] *= -1\n",
    "x"
   ]
  },
  {
   "cell_type": "markdown",
   "id": "cde02143",
   "metadata": {},
   "source": [
    "### Single element indexing"
   ]
  },
  {
   "cell_type": "code",
   "execution_count": 2,
   "id": "c3dda20b",
   "metadata": {
    "ExecuteTime": {
     "end_time": "2022-09-22T05:49:27.833875Z",
     "start_time": "2022-09-22T05:49:27.821259Z"
    }
   },
   "outputs": [
    {
     "data": {
      "text/plain": [
       "2"
      ]
     },
     "execution_count": 2,
     "metadata": {},
     "output_type": "execute_result"
    }
   ],
   "source": [
    "x = np.arange(10)\n",
    "x[2]"
   ]
  },
  {
   "cell_type": "code",
   "execution_count": 3,
   "id": "2a76ff24",
   "metadata": {
    "ExecuteTime": {
     "end_time": "2022-09-22T05:49:28.830345Z",
     "start_time": "2022-09-22T05:49:28.821778Z"
    }
   },
   "outputs": [
    {
     "data": {
      "text/plain": [
       "7"
      ]
     },
     "execution_count": 3,
     "metadata": {},
     "output_type": "execute_result"
    }
   ],
   "source": [
    "x[-3]"
   ]
  },
  {
   "cell_type": "code",
   "execution_count": 4,
   "id": "f3371cb2",
   "metadata": {
    "ExecuteTime": {
     "end_time": "2022-09-22T05:49:29.675667Z",
     "start_time": "2022-09-22T05:49:29.663446Z"
    }
   },
   "outputs": [
    {
     "data": {
      "text/plain": [
       "8"
      ]
     },
     "execution_count": 4,
     "metadata": {},
     "output_type": "execute_result"
    }
   ],
   "source": [
    "x.shape = (2, 5)  # now x is 2-dimensional\n",
    "x[1, 3]"
   ]
  },
  {
   "cell_type": "markdown",
   "id": "8131277c",
   "metadata": {},
   "source": [
    "### Slicing and striding"
   ]
  },
  {
   "cell_type": "markdown",
   "id": "02ae014b",
   "metadata": {},
   "source": [
    "Basic slicing occurs when obj is a slice object (constructed by start:stop:step notation inside of brackets), an integer, or a tuple of slice objects and integers.\n",
    "The basic slice syntax is i:j:k where i is the starting index, j is the stopping index, and k is the step (k!=0). This selects the m elements (in the corresponding dimension) with index values i, i + k, …, i + (m - 1) k where m=q+(r!=0) and q and r are the quotient and remainder obtained by dividing j - i by k: j - i = q k + r, so that i + (m - 1) k < j. For example:"
   ]
  },
  {
   "cell_type": "code",
   "execution_count": 6,
   "id": "cf2a7e6c",
   "metadata": {
    "ExecuteTime": {
     "end_time": "2022-09-22T05:56:56.245452Z",
     "start_time": "2022-09-22T05:56:56.241460Z"
    }
   },
   "outputs": [
    {
     "data": {
      "text/plain": [
       "array([1, 3, 5])"
      ]
     },
     "execution_count": 6,
     "metadata": {},
     "output_type": "execute_result"
    }
   ],
   "source": [
    "x = np.array([0, 1, 2, 3, 4, 5, 6, 7, 8, 9])\n",
    "x[1:7:2] # (start: stop: step)"
   ]
  },
  {
   "cell_type": "code",
   "execution_count": 7,
   "id": "4cb0a674",
   "metadata": {
    "ExecuteTime": {
     "end_time": "2022-09-22T05:57:25.412885Z",
     "start_time": "2022-09-22T05:57:25.397189Z"
    }
   },
   "outputs": [
    {
     "data": {
      "text/plain": [
       "array([8, 9])"
      ]
     },
     "execution_count": 7,
     "metadata": {},
     "output_type": "execute_result"
    }
   ],
   "source": [
    "x[-2:10]"
   ]
  },
  {
   "cell_type": "code",
   "execution_count": 8,
   "id": "a8faa784",
   "metadata": {
    "ExecuteTime": {
     "end_time": "2022-09-22T05:58:17.103138Z",
     "start_time": "2022-09-22T05:58:17.083438Z"
    }
   },
   "outputs": [
    {
     "data": {
      "text/plain": [
       "array([7, 6, 5, 4])"
      ]
     },
     "execution_count": 8,
     "metadata": {},
     "output_type": "execute_result"
    }
   ],
   "source": [
    "x[-3:3:-1]"
   ]
  },
  {
   "cell_type": "code",
   "execution_count": 10,
   "id": "7ab46508",
   "metadata": {
    "ExecuteTime": {
     "end_time": "2022-09-22T06:00:07.604329Z",
     "start_time": "2022-09-22T06:00:07.586230Z"
    }
   },
   "outputs": [
    {
     "data": {
      "text/plain": [
       "array([5, 6, 7, 8, 9])"
      ]
     },
     "execution_count": 10,
     "metadata": {},
     "output_type": "execute_result"
    }
   ],
   "source": [
    "x[5:]"
   ]
  },
  {
   "cell_type": "code",
   "execution_count": 12,
   "id": "5676700a",
   "metadata": {
    "ExecuteTime": {
     "end_time": "2022-09-22T06:00:28.681860Z",
     "start_time": "2022-09-22T06:00:28.674736Z"
    }
   },
   "outputs": [
    {
     "data": {
      "text/plain": [
       "array([0, 1, 2, 3, 4])"
      ]
     },
     "execution_count": 12,
     "metadata": {},
     "output_type": "execute_result"
    }
   ],
   "source": [
    "x[:5]"
   ]
  },
  {
   "cell_type": "code",
   "execution_count": 14,
   "id": "25d7a44e",
   "metadata": {
    "ExecuteTime": {
     "end_time": "2022-09-22T06:01:29.230045Z",
     "start_time": "2022-09-22T06:01:29.221565Z"
    }
   },
   "outputs": [
    {
     "data": {
      "text/plain": [
       "(2, 3, 1)"
      ]
     },
     "execution_count": 14,
     "metadata": {},
     "output_type": "execute_result"
    }
   ],
   "source": [
    "x = np.array([[[1],[2],[3]], [[4],[5],[6]]])\n",
    "x.shape\n"
   ]
  },
  {
   "cell_type": "code",
   "execution_count": 15,
   "id": "f54bebcc",
   "metadata": {
    "ExecuteTime": {
     "end_time": "2022-09-22T06:01:52.307590Z",
     "start_time": "2022-09-22T06:01:52.287922Z"
    }
   },
   "outputs": [
    {
     "data": {
      "text/plain": [
       "array([[[4],\n",
       "        [5],\n",
       "        [6]]])"
      ]
     },
     "execution_count": 15,
     "metadata": {},
     "output_type": "execute_result"
    }
   ],
   "source": [
    "x[1:2]"
   ]
  },
  {
   "cell_type": "markdown",
   "id": "c2c50987",
   "metadata": {},
   "source": [
    "### Dimensional indexing tools"
   ]
  },
  {
   "cell_type": "code",
   "execution_count": 16,
   "id": "f94516b4",
   "metadata": {
    "ExecuteTime": {
     "end_time": "2022-09-22T06:08:37.578743Z",
     "start_time": "2022-09-22T06:08:37.567296Z"
    }
   },
   "outputs": [
    {
     "data": {
      "text/plain": [
       "array([[1, 2, 3],\n",
       "       [4, 5, 6]])"
      ]
     },
     "execution_count": 16,
     "metadata": {},
     "output_type": "execute_result"
    }
   ],
   "source": [
    "x[..., 0]"
   ]
  },
  {
   "cell_type": "code",
   "execution_count": 17,
   "id": "2ce629c6",
   "metadata": {
    "ExecuteTime": {
     "end_time": "2022-09-22T06:09:21.900475Z",
     "start_time": "2022-09-22T06:09:21.878460Z"
    }
   },
   "outputs": [
    {
     "data": {
      "text/plain": [
       "array([[1, 2, 3],\n",
       "       [4, 5, 6]])"
      ]
     },
     "execution_count": 17,
     "metadata": {},
     "output_type": "execute_result"
    }
   ],
   "source": [
    "x[:, :, 0]"
   ]
  },
  {
   "cell_type": "markdown",
   "id": "096a3242",
   "metadata": {},
   "source": [
    "## NumPy Searching Arrays"
   ]
  },
  {
   "cell_type": "code",
   "execution_count": 6,
   "id": "76e87861",
   "metadata": {
    "ExecuteTime": {
     "end_time": "2022-10-26T13:59:01.016940Z",
     "start_time": "2022-10-26T13:58:51.569911Z"
    }
   },
   "outputs": [
    {
     "name": "stdout",
     "output_type": "stream",
     "text": [
      "(array([3, 5, 6], dtype=int64),)\n"
     ]
    }
   ],
   "source": [
    "# Find the indexes where the value is 4:\n",
    "\n",
    "import numpy as np\n",
    "\n",
    "arr = np.array([1, 2, 3, 4, 5, 4, 4])\n",
    "\n",
    "x = np.where(arr == 4)\n",
    "\n",
    "print(x)"
   ]
  },
  {
   "cell_type": "code",
   "execution_count": 7,
   "id": "55c13e5c",
   "metadata": {
    "ExecuteTime": {
     "end_time": "2022-10-26T13:59:53.080599Z",
     "start_time": "2022-10-26T13:59:53.056204Z"
    }
   },
   "outputs": [
    {
     "name": "stdout",
     "output_type": "stream",
     "text": [
      "(array([1, 3, 5, 7], dtype=int64),)\n"
     ]
    }
   ],
   "source": [
    "# Find the indexes where the values are even:\n",
    "\n",
    "\n",
    "arr = np.array([1, 2, 3, 4, 5, 6, 7, 8])\n",
    "\n",
    "x = np.where(arr%2 == 0)\n",
    "\n",
    "print(x)"
   ]
  },
  {
   "cell_type": "code",
   "execution_count": 8,
   "id": "e0969961",
   "metadata": {
    "ExecuteTime": {
     "end_time": "2022-10-26T14:01:10.421647Z",
     "start_time": "2022-10-26T14:01:10.398311Z"
    }
   },
   "outputs": [
    {
     "name": "stdout",
     "output_type": "stream",
     "text": [
      "(array([0, 2, 4, 6], dtype=int64),)\n"
     ]
    }
   ],
   "source": [
    "# Find the indexes where the values are odd:\n",
    "\n",
    "import numpy as np\n",
    "\n",
    "arr = np.array([1, 2, 3, 4, 5, 6, 7, 8])\n",
    "\n",
    "x = np.where(arr%2 == 1)\n",
    "\n",
    "print(x)"
   ]
  },
  {
   "cell_type": "code",
   "execution_count": 9,
   "id": "3edcfac7",
   "metadata": {
    "ExecuteTime": {
     "end_time": "2022-10-26T14:02:26.181922Z",
     "start_time": "2022-10-26T14:02:26.151681Z"
    }
   },
   "outputs": [
    {
     "name": "stdout",
     "output_type": "stream",
     "text": [
      "1\n"
     ]
    }
   ],
   "source": [
    "# Find the indexes where the value 7 should be inserted:\n",
    "\n",
    "import numpy as np\n",
    "\n",
    "arr = np.array([6, 7, 8, 9])\n",
    "\n",
    "x = np.searchsorted(arr, 7)\n",
    "\n",
    "print(x)"
   ]
  },
  {
   "cell_type": "code",
   "execution_count": 10,
   "id": "b4123b98",
   "metadata": {
    "ExecuteTime": {
     "end_time": "2022-10-26T14:03:30.205299Z",
     "start_time": "2022-10-26T14:03:30.189782Z"
    }
   },
   "outputs": [
    {
     "name": "stdout",
     "output_type": "stream",
     "text": [
      "2\n"
     ]
    }
   ],
   "source": [
    "# Find the indexes where the value 7 should be inserted, starting from the right:\n",
    "\n",
    "import numpy as np\n",
    "\n",
    "arr = np.array([6, 7, 8, 9])\n",
    "\n",
    "x = np.searchsorted(arr, 7, side='right')\n",
    "\n",
    "print(x)"
   ]
  },
  {
   "cell_type": "code",
   "execution_count": 11,
   "id": "0ca2c257",
   "metadata": {
    "ExecuteTime": {
     "end_time": "2022-10-26T14:22:17.431372Z",
     "start_time": "2022-10-26T14:22:17.413113Z"
    }
   },
   "outputs": [
    {
     "name": "stdout",
     "output_type": "stream",
     "text": [
      "[1 2 3]\n"
     ]
    }
   ],
   "source": [
    "# Find the indexes where the values 2, 4, and 6 should be inserted:\n",
    "\n",
    "import numpy as np\n",
    "\n",
    "arr = np.array([1, 3, 5, 7])\n",
    "\n",
    "x = np.searchsorted(arr, [2, 4, 6])\n",
    "\n",
    "print(x)"
   ]
  },
  {
   "cell_type": "markdown",
   "id": "2f9bbd01",
   "metadata": {},
   "source": [
    "## NumPy Sorting Arrays\n"
   ]
  },
  {
   "cell_type": "code",
   "execution_count": 12,
   "id": "f307778e",
   "metadata": {
    "ExecuteTime": {
     "end_time": "2022-10-26T14:24:59.091338Z",
     "start_time": "2022-10-26T14:24:59.079644Z"
    }
   },
   "outputs": [
    {
     "name": "stdout",
     "output_type": "stream",
     "text": [
      "[0 1 2 3]\n"
     ]
    }
   ],
   "source": [
    "# Sort the array:\n",
    "\n",
    "import numpy as np\n",
    "\n",
    "arr = np.array([3, 2, 0, 1])\n",
    "\n",
    "print(np.sort(arr))"
   ]
  },
  {
   "cell_type": "code",
   "execution_count": 13,
   "id": "d45757b6",
   "metadata": {
    "ExecuteTime": {
     "end_time": "2022-10-26T14:25:48.257189Z",
     "start_time": "2022-10-26T14:25:48.243877Z"
    }
   },
   "outputs": [
    {
     "name": "stdout",
     "output_type": "stream",
     "text": [
      "['apple' 'banana' 'cherry']\n"
     ]
    }
   ],
   "source": [
    "# Sort the array alphabetically:\n",
    "\n",
    "import numpy as np\n",
    "\n",
    "arr = np.array(['banana', 'cherry', 'apple'])\n",
    "\n",
    "print(np.sort(arr))"
   ]
  },
  {
   "cell_type": "code",
   "execution_count": 14,
   "id": "5ab4a15e",
   "metadata": {
    "ExecuteTime": {
     "end_time": "2022-10-26T14:26:04.866097Z",
     "start_time": "2022-10-26T14:26:04.856170Z"
    }
   },
   "outputs": [
    {
     "name": "stdout",
     "output_type": "stream",
     "text": [
      "[False  True  True]\n"
     ]
    }
   ],
   "source": [
    "# Sort a boolean array:\n",
    "\n",
    "import numpy as np\n",
    "\n",
    "arr = np.array([True, False, True])\n",
    "\n",
    "print(np.sort(arr))"
   ]
  },
  {
   "cell_type": "code",
   "execution_count": 15,
   "id": "6f3bd1c6",
   "metadata": {
    "ExecuteTime": {
     "end_time": "2022-10-26T14:26:40.460263Z",
     "start_time": "2022-10-26T14:26:40.437714Z"
    }
   },
   "outputs": [
    {
     "name": "stdout",
     "output_type": "stream",
     "text": [
      "[[2 3 4]\n",
      " [0 1 5]]\n"
     ]
    }
   ],
   "source": [
    "# Sort a 2-D array:\n",
    "\n",
    "import numpy as np\n",
    "\n",
    "arr = np.array([[3, 2, 4], [5, 0, 1]])\n",
    "\n",
    "print(np.sort(arr))"
   ]
  },
  {
   "cell_type": "markdown",
   "id": "988eae50",
   "metadata": {},
   "source": [
    "## NumPy Array Reshaping"
   ]
  },
  {
   "cell_type": "markdown",
   "id": "0dd7a5f9",
   "metadata": {},
   "source": [
    "### Reshape From 1-D to 2-D"
   ]
  },
  {
   "cell_type": "code",
   "execution_count": 16,
   "id": "bb16ccea",
   "metadata": {
    "ExecuteTime": {
     "end_time": "2022-10-26T14:28:29.704135Z",
     "start_time": "2022-10-26T14:28:29.679928Z"
    }
   },
   "outputs": [
    {
     "name": "stdout",
     "output_type": "stream",
     "text": [
      "[[ 1  2  3]\n",
      " [ 4  5  6]\n",
      " [ 7  8  9]\n",
      " [10 11 12]]\n"
     ]
    }
   ],
   "source": [
    "arr = np.array([1, 2, 3, 4, 5, 6, 7, 8, 9, 10, 11, 12])\n",
    "\n",
    "newarr = arr.reshape(4, 3)\n",
    "\n",
    "print(newarr)"
   ]
  },
  {
   "cell_type": "markdown",
   "id": "375fe982",
   "metadata": {},
   "source": [
    "### Reshape From 1-D to 3-D"
   ]
  },
  {
   "cell_type": "code",
   "execution_count": 18,
   "id": "a00295e4",
   "metadata": {
    "ExecuteTime": {
     "end_time": "2022-10-26T14:30:29.333352Z",
     "start_time": "2022-10-26T14:30:29.317746Z"
    }
   },
   "outputs": [
    {
     "name": "stdout",
     "output_type": "stream",
     "text": [
      "[[[ 1  2]\n",
      "  [ 3  4]\n",
      "  [ 5  6]]\n",
      "\n",
      " [[ 7  8]\n",
      "  [ 9 10]\n",
      "  [11 12]]]\n"
     ]
    }
   ],
   "source": [
    "arr = np.array([1, 2, 3, 4, 5, 6, 7, 8, 9, 10, 11, 12])\n",
    "\n",
    "newarr = arr.reshape(2, 3, 2)\n",
    "\n",
    "print(newarr) \n",
    "#The outermost dimension will have 2 arrays that contains 3 arrays, each with 2 elements"
   ]
  },
  {
   "cell_type": "markdown",
   "id": "aa0836ef",
   "metadata": {},
   "source": [
    "### Flattening the arrays "
   ]
  },
  {
   "cell_type": "markdown",
   "id": "69d92b2f",
   "metadata": {},
   "source": [
    "Flattening array means converting a multidimensional array into a 1D array\n",
    "We can use reshape(-1) to do this."
   ]
  },
  {
   "cell_type": "code",
   "execution_count": 19,
   "id": "bf1b8ff6",
   "metadata": {
    "ExecuteTime": {
     "end_time": "2022-10-26T14:33:11.591365Z",
     "start_time": "2022-10-26T14:33:11.574728Z"
    }
   },
   "outputs": [
    {
     "name": "stdout",
     "output_type": "stream",
     "text": [
      "[1 2 3 4 5 6]\n"
     ]
    }
   ],
   "source": [
    "#Convert the array into a 1D array:\n",
    "\n",
    "arr = np.array([[1, 2, 3], [4, 5, 6]])\n",
    "\n",
    "newarr = arr.reshape(-1)\n",
    "\n",
    "print(newarr)"
   ]
  },
  {
   "cell_type": "markdown",
   "id": "2c373dfe",
   "metadata": {},
   "source": [
    "## Random Numbers in NumPy"
   ]
  },
  {
   "cell_type": "markdown",
   "id": "b12598a7",
   "metadata": {},
   "source": [
    "### Generate Random Number"
   ]
  },
  {
   "cell_type": "code",
   "execution_count": 27,
   "id": "2bd9a30e",
   "metadata": {
    "ExecuteTime": {
     "end_time": "2022-10-26T14:37:56.543437Z",
     "start_time": "2022-10-26T14:37:56.519538Z"
    }
   },
   "outputs": [
    {
     "name": "stdout",
     "output_type": "stream",
     "text": [
      "33\n"
     ]
    }
   ],
   "source": [
    "from numpy import random\n",
    "\n",
    "x = random.randint(100)\n",
    "\n",
    "print(x)"
   ]
  },
  {
   "cell_type": "markdown",
   "id": "d44b636b",
   "metadata": {
    "ExecuteTime": {
     "end_time": "2022-10-26T14:38:23.666803Z",
     "start_time": "2022-10-26T14:38:23.652246Z"
    }
   },
   "source": [
    "### Generate Random Float"
   ]
  },
  {
   "cell_type": "code",
   "execution_count": 31,
   "id": "5697ca4d",
   "metadata": {
    "ExecuteTime": {
     "end_time": "2022-10-26T14:38:47.328471Z",
     "start_time": "2022-10-26T14:38:47.304655Z"
    }
   },
   "outputs": [
    {
     "name": "stdout",
     "output_type": "stream",
     "text": [
      "0.9809242901434643\n"
     ]
    }
   ],
   "source": [
    "x = random.rand()\n",
    "\n",
    "print(x)"
   ]
  },
  {
   "cell_type": "markdown",
   "id": "dbdc4171",
   "metadata": {},
   "source": [
    "### Generate Random Array"
   ]
  },
  {
   "cell_type": "code",
   "execution_count": 32,
   "id": "6920f076",
   "metadata": {
    "ExecuteTime": {
     "end_time": "2022-10-26T14:39:26.040223Z",
     "start_time": "2022-10-26T14:39:26.009547Z"
    }
   },
   "outputs": [
    {
     "name": "stdout",
     "output_type": "stream",
     "text": [
      "[90 11 37 20 62]\n"
     ]
    }
   ],
   "source": [
    "#Generate a 1-D array containing 5 random integers from 0 to 100:\n",
    "x=random.randint(100, size=(5))\n",
    "\n",
    "print(x)"
   ]
  },
  {
   "cell_type": "code",
   "execution_count": 35,
   "id": "f2c7a5c5",
   "metadata": {
    "ExecuteTime": {
     "end_time": "2022-10-26T14:40:11.464896Z",
     "start_time": "2022-10-26T14:40:11.448958Z"
    }
   },
   "outputs": [
    {
     "name": "stdout",
     "output_type": "stream",
     "text": [
      "[[28  0 16 35 54]\n",
      " [38 32 27 68 67]\n",
      " [34 14 20 54 25]]\n"
     ]
    }
   ],
   "source": [
    "#Generate a 2-D array with 3 rows, each row containing 5 random integers from 0 to 100:\n",
    "\n",
    "from numpy import random\n",
    "\n",
    "x = random.randint(100, size=(3, 5))\n",
    "\n",
    "print(x)"
   ]
  },
  {
   "cell_type": "code",
   "execution_count": 36,
   "id": "9fa6ff02",
   "metadata": {
    "ExecuteTime": {
     "end_time": "2022-10-26T14:40:58.582779Z",
     "start_time": "2022-10-26T14:40:58.566447Z"
    }
   },
   "outputs": [
    {
     "name": "stdout",
     "output_type": "stream",
     "text": [
      "[0.90672227 0.53777008 0.3687145  0.82325493 0.20663885]\n"
     ]
    }
   ],
   "source": [
    "# Generate a 1-D array containing 5 random floats:\n",
    "\n",
    "from numpy import random\n",
    "\n",
    "x = random.rand(5)\n",
    "\n",
    "print(x)"
   ]
  },
  {
   "cell_type": "code",
   "execution_count": 37,
   "id": "65979a87",
   "metadata": {
    "ExecuteTime": {
     "end_time": "2022-10-26T14:41:14.784669Z",
     "start_time": "2022-10-26T14:41:14.769554Z"
    }
   },
   "outputs": [
    {
     "name": "stdout",
     "output_type": "stream",
     "text": [
      "[[0.03115734 0.49492298 0.54438626 0.07483178 0.3698372 ]\n",
      " [0.0863175  0.28208572 0.12449277 0.33236627 0.57648324]\n",
      " [0.56310327 0.54419699 0.73833035 0.18701863 0.57484107]]\n"
     ]
    }
   ],
   "source": [
    "# Generate a 2-D array with 3 rows, each row containing 5 random numbers:\n",
    "\n",
    "from numpy import random\n",
    "\n",
    "x = random.rand(3, 5)\n",
    "\n",
    "print(x)"
   ]
  },
  {
   "cell_type": "markdown",
   "id": "49ad748b",
   "metadata": {},
   "source": [
    "### Generate Random Number From Array"
   ]
  },
  {
   "cell_type": "markdown",
   "id": "ca4db976",
   "metadata": {},
   "source": [
    "The choice() method allows you to generate a random value based on an array of values.\n",
    "\n",
    "The choice() method takes an array as a parameter and randomly returns one of the values.\n",
    "\n",
    "The choice() method also allows you to return an array of values.\n",
    "\n",
    "Add a size parameter to specify the shape of the array."
   ]
  },
  {
   "cell_type": "code",
   "execution_count": 38,
   "id": "ac4c0a07",
   "metadata": {
    "ExecuteTime": {
     "end_time": "2022-10-26T14:43:13.131699Z",
     "start_time": "2022-10-26T14:43:13.107604Z"
    }
   },
   "outputs": [
    {
     "name": "stdout",
     "output_type": "stream",
     "text": [
      "7\n"
     ]
    }
   ],
   "source": [
    "# Return one of the values in an array:\n",
    "\n",
    "from numpy import random\n",
    "\n",
    "x = random.choice([3, 5, 7, 9])\n",
    "\n",
    "print(x)"
   ]
  },
  {
   "cell_type": "code",
   "execution_count": 39,
   "id": "e6eec097",
   "metadata": {
    "ExecuteTime": {
     "end_time": "2022-10-26T14:43:31.478109Z",
     "start_time": "2022-10-26T14:43:31.454069Z"
    }
   },
   "outputs": [
    {
     "name": "stdout",
     "output_type": "stream",
     "text": [
      "[[5 5 3 5 9]\n",
      " [7 9 7 3 5]\n",
      " [9 7 3 7 3]]\n"
     ]
    }
   ],
   "source": [
    "# Generate a 2-D array that consists of the values in the array parameter (3, 5, 7, and 9):\n",
    "\n",
    "from numpy import random\n",
    "\n",
    "x = random.choice([3, 5, 7, 9], size=(3, 5))\n",
    "\n",
    "print(x)"
   ]
  },
  {
   "cell_type": "markdown",
   "id": "ef4da431",
   "metadata": {},
   "source": [
    "## Random Permutations\n"
   ]
  },
  {
   "cell_type": "markdown",
   "id": "ed9b675c",
   "metadata": {},
   "source": [
    "A permutation refers to an arrangement of elements. e.g. [3, 2, 1] is a permutation of [1, 2, 3] and vice-versa.\n",
    "\n",
    "The NumPy Random module provides two methods for this: shuffle() and permutation()."
   ]
  },
  {
   "cell_type": "markdown",
   "id": "4aeea5c6",
   "metadata": {},
   "source": [
    "### Shuffling Arrays"
   ]
  },
  {
   "cell_type": "code",
   "execution_count": 43,
   "id": "6ad6876c",
   "metadata": {
    "ExecuteTime": {
     "end_time": "2022-10-26T14:46:36.046840Z",
     "start_time": "2022-10-26T14:46:36.025885Z"
    }
   },
   "outputs": [
    {
     "name": "stdout",
     "output_type": "stream",
     "text": [
      "[1 4 3 2 5]\n"
     ]
    }
   ],
   "source": [
    "# Randomly shuffle elements of following array:\n",
    "\n",
    "from numpy import random\n",
    "import numpy as np\n",
    "\n",
    "arr = np.array([1, 2, 3, 4, 5])\n",
    "\n",
    "random.shuffle(arr)\n",
    "\n",
    "print(arr)\n",
    "\n",
    "#The shuffle() method makes changes to the original array."
   ]
  },
  {
   "cell_type": "markdown",
   "id": "43c873a7",
   "metadata": {},
   "source": [
    "### Generating Permutation of Arrays"
   ]
  },
  {
   "cell_type": "code",
   "execution_count": 46,
   "id": "f1fd224e",
   "metadata": {
    "ExecuteTime": {
     "end_time": "2022-10-26T14:48:09.185407Z",
     "start_time": "2022-10-26T14:48:09.170361Z"
    }
   },
   "outputs": [
    {
     "name": "stdout",
     "output_type": "stream",
     "text": [
      "[4 2 1 5 3]\n"
     ]
    }
   ],
   "source": [
    "arr = np.array([1, 2, 3, 4, 5])\n",
    "\n",
    "print(random.permutation(arr))\n",
    "\n",
    "#The permutation() method returns a re-arranged array (and leaves the original array un-changed).\n",
    "\n"
   ]
  },
  {
   "cell_type": "markdown",
   "id": "c55488d5",
   "metadata": {},
   "source": [
    "## numpy.argwhere()"
   ]
  },
  {
   "cell_type": "markdown",
   "id": "68492750",
   "metadata": {},
   "source": [
    "numpy.argwhere() function is used to find the indices of array elements that are non-zero, grouped by element.\n",
    "\n",
    "Syntax : numpy.argwhere(arr)\n",
    "\n",
    "Parameters :\n",
    "arr : [array_like] Input array.\n",
    "\n",
    "Return : [ndarray] Indices of elements that are non-zero. Indices are grouped by element."
   ]
  },
  {
   "cell_type": "code",
   "execution_count": 1,
   "id": "834850bf",
   "metadata": {
    "ExecuteTime": {
     "end_time": "2022-10-28T04:45:59.357340Z",
     "start_time": "2022-10-28T04:45:58.937799Z"
    }
   },
   "outputs": [
    {
     "name": "stdout",
     "output_type": "stream",
     "text": [
      "Input array :  [[2, 0, 7], [0, 5, 9]]\n",
      "Output indices of non zero array element: \n",
      " [[0 0]\n",
      " [0 2]\n",
      " [1 1]\n",
      " [1 2]]\n"
     ]
    }
   ],
   "source": [
    "# Python program explaining\n",
    "# argwhere() function\n",
    "   \n",
    "import numpy as np\n",
    "  \n",
    "# input array\n",
    "in_arr = [[ 2, 0, 7], [ 0, 5, 9]]\n",
    "print (\"Input array : \", in_arr) \n",
    "  \n",
    "out_arr = np.argwhere(in_arr)\n",
    "print (\"Output indices of non zero array element: \\n\", out_arr)"
   ]
  },
  {
   "cell_type": "code",
   "execution_count": 3,
   "id": "44fa729e",
   "metadata": {
    "ExecuteTime": {
     "end_time": "2022-10-28T04:48:13.163044Z",
     "start_time": "2022-10-28T04:48:13.125640Z"
    }
   },
   "outputs": [
    {
     "name": "stdout",
     "output_type": "stream",
     "text": [
      "Input array :  [[0 1]\n",
      " [2 3]\n",
      " [4 5]\n",
      " [6 7]]\n",
      "Output indices greater than 4: \n",
      " [[2 1]\n",
      " [3 0]\n",
      " [3 1]]\n"
     ]
    }
   ],
   "source": [
    "# Python program explaining\n",
    "# argwhere() function\n",
    "   \n",
    "import numpy as np\n",
    "  \n",
    "# input array\n",
    "in_arr = np.arange(8).reshape(4, 2)\n",
    "print (\"Input array : \", in_arr) \n",
    "  \n",
    "out_arr = np.argwhere(in_arr>4)\n",
    "print (\"Output indices greater than 4: \\n\", out_arr)"
   ]
  },
  {
   "cell_type": "markdown",
   "id": "b2209818",
   "metadata": {},
   "source": [
    "## numpy.where()"
   ]
  },
  {
   "cell_type": "markdown",
   "id": "d56da7f3",
   "metadata": {},
   "source": [
    "The numpy.where() function returns the indices of elements in an input array where the given condition is satisfied.\n",
    "\n",
    "Syntax :numpy.where(condition[, x, y])\n",
    "Parameters:\n",
    "condition : When True, yield x, otherwise yield y.\n",
    "x, y : Values from which to choose. x, y and condition need to be broadcastable to some shape.\n",
    "\n",
    "Returns:\n",
    "out : [ndarray or tuple of ndarrays] If both x and y are specified, the output array contains elements of x where condition is True, and elements from y elsewhere.\n",
    "\n",
    "If only condition is given, return the tuple condition.nonzero(), the indices where condition is True."
   ]
  },
  {
   "cell_type": "code",
   "execution_count": 4,
   "id": "b1956032",
   "metadata": {
    "ExecuteTime": {
     "end_time": "2022-10-28T05:10:27.969942Z",
     "start_time": "2022-10-28T05:10:27.944010Z"
    }
   },
   "outputs": [
    {
     "data": {
      "text/plain": [
       "array([[1, 6],\n",
       "       [3, 4]])"
      ]
     },
     "execution_count": 4,
     "metadata": {},
     "output_type": "execute_result"
    }
   ],
   "source": [
    "# Python program explaining \n",
    "# where() function \n",
    "  \n",
    "import numpy as np\n",
    "  \n",
    "np.where([[True, False], [True, True]],\n",
    "         [[1, 2], [3, 4]], [[5, 6], [7, 8]])"
   ]
  },
  {
   "cell_type": "code",
   "execution_count": 5,
   "id": "6dbfe7aa",
   "metadata": {
    "ExecuteTime": {
     "end_time": "2022-10-28T05:12:14.669948Z",
     "start_time": "2022-10-28T05:12:14.649430Z"
    }
   },
   "outputs": [
    {
     "name": "stdout",
     "output_type": "stream",
     "text": [
      "[[1 2 3]\n",
      " [4 5 6]]\n",
      "Indices of elements <4\n",
      "(array([0, 0, 0], dtype=int64), array([0, 1, 2], dtype=int64))\n",
      "Elements which are <4\n",
      "[1 2 3]\n"
     ]
    }
   ],
   "source": [
    "# Python program explaining \n",
    "# where() function \n",
    "  \n",
    "import numpy as np\n",
    "  \n",
    "# a is an array of integers.\n",
    "a = np.array([[1, 2, 3], [4, 5, 6]])\n",
    "  \n",
    "print(a)\n",
    "  \n",
    "print ('Indices of elements <4')\n",
    "  \n",
    "b = np.where(a<4)\n",
    "print(b)\n",
    "  \n",
    "print(\"Elements which are <4\")\n",
    "print(a[b])"
   ]
  },
  {
   "cell_type": "markdown",
   "id": "44ae0774",
   "metadata": {},
   "source": [
    "## numpy.all()"
   ]
  },
  {
   "cell_type": "markdown",
   "id": "37417466",
   "metadata": {},
   "source": [
    "The numpy.all() function tests whether all array elements along the mentioned axis evaluate to True.\n",
    "\n",
    "Syntax: numpy.all(array,\n",
    "                    axis = None,\n",
    "                    out = None,\n",
    "                    keepdims = class numpy._globals._NoValue at 0x40ba726c)"
   ]
  },
  {
   "cell_type": "code",
   "execution_count": 6,
   "id": "9ac95787",
   "metadata": {
    "ExecuteTime": {
     "end_time": "2022-10-28T05:18:32.876807Z",
     "start_time": "2022-10-28T05:18:32.858416Z"
    }
   },
   "outputs": [
    {
     "name": "stdout",
     "output_type": "stream",
     "text": [
      "Bool Value with axis = NONE  :  False\n",
      "\n",
      "Bool Value with axis = 0  :  [ True False]\n",
      "\n",
      "Bool :  True\n",
      "\n",
      "Bool :  True\n",
      "\n",
      "Bool Value :  False\n"
     ]
    }
   ],
   "source": [
    "import numpy as np\n",
    "   \n",
    "# Axis = NULL\n",
    "#  True    False\n",
    "#  True    True\n",
    "#  True  : False  =  False\n",
    "  \n",
    "print(\"Bool Value with axis = NONE  : \",\n",
    "      np.all([[True,False],[True,True]]))\n",
    "  \n",
    "# Axis = 0\n",
    "#  True    False\n",
    "#  True    True\n",
    "#  True  : False\n",
    "print(\"\\nBool Value with axis = 0  : \",\n",
    "      np.all([[True,False],[True,True]], axis = 0))\n",
    "  \n",
    "print(\"\\nBool : \", np.all([-1, 4, 5]))\n",
    "  \n",
    "  \n",
    "# Not a Number (NaN), positive infinity and negative infinity\n",
    "# evaluate to True because these are not equal to zero.\n",
    "print(\"\\nBool : \", np.all([1.0, np.nan]))\n",
    "  \n",
    "print(\"\\nBool Value : \", np.all([[0, 0],[0, 0]]))"
   ]
  },
  {
   "cell_type": "markdown",
   "id": "7a772808",
   "metadata": {},
   "source": [
    "## numpy.nonzero()"
   ]
  },
  {
   "cell_type": "markdown",
   "id": "1902b55d",
   "metadata": {},
   "source": [
    "numpy.nonzero()function is used to Compute the indices of the elements that are non-zero.\n",
    "\n",
    "It returns a tuple of arrays, one for each dimension of arr, containing the indices of the non-zero elements in that dimension.\n",
    "The corresponding non-zero values in the array can be obtained with arr[nonzero(arr)] . To group the indices by element, rather than dimension we can use transpose(nonzero(arr)).\n",
    "\n",
    "Syntax : numpy.nonzero(arr)\n",
    "\n",
    "Parameters :\n",
    "arr : [array_like] Input array.\n",
    "\n"
   ]
  },
  {
   "cell_type": "code",
   "execution_count": 10,
   "id": "82780966",
   "metadata": {
    "ExecuteTime": {
     "end_time": "2022-10-28T05:34:02.435812Z",
     "start_time": "2022-10-28T05:34:02.423286Z"
    }
   },
   "outputs": [
    {
     "name": "stdout",
     "output_type": "stream",
     "text": [
      "Input  array : \n",
      " [[ 0  8  0]\n",
      " [ 7  0  0]\n",
      " [-5  0  1]]\n",
      "Indices of non zero elements :  (array([0, 1, 2, 2], dtype=int64), array([1, 0, 0, 2], dtype=int64))\n"
     ]
    }
   ],
   "source": [
    "import numpy as np\n",
    "arr = np.array([[0, 8, 0], [7, 0, 0], [-5, 0, 1]])\n",
    "  \n",
    "print (\"Input  array : \\n\", arr)\n",
    "    \n",
    "out_tpl = np.nonzero(arr)\n",
    "print (\"Indices of non zero elements : \", out_tpl) "
   ]
  },
  {
   "cell_type": "code",
   "execution_count": null,
   "id": "071ac137",
   "metadata": {},
   "outputs": [],
   "source": []
  },
  {
   "cell_type": "code",
   "execution_count": null,
   "id": "190c380a",
   "metadata": {},
   "outputs": [],
   "source": []
  },
  {
   "cell_type": "code",
   "execution_count": null,
   "id": "37842c82",
   "metadata": {},
   "outputs": [],
   "source": []
  },
  {
   "cell_type": "code",
   "execution_count": null,
   "id": "a6b8be81",
   "metadata": {},
   "outputs": [],
   "source": []
  },
  {
   "cell_type": "code",
   "execution_count": null,
   "id": "16e3879a",
   "metadata": {},
   "outputs": [],
   "source": []
  },
  {
   "cell_type": "markdown",
   "id": "f803f5eb",
   "metadata": {},
   "source": [
    "# MATPLOTLIB"
   ]
  },
  {
   "cell_type": "code",
   "execution_count": 47,
   "id": "1d17bd50",
   "metadata": {
    "ExecuteTime": {
     "end_time": "2022-10-26T14:54:31.646880Z",
     "start_time": "2022-10-26T14:54:25.681510Z"
    }
   },
   "outputs": [],
   "source": [
    "import matplotlib.pyplot as plt"
   ]
  },
  {
   "cell_type": "markdown",
   "id": "1d86538a",
   "metadata": {},
   "source": [
    "## Draw a line"
   ]
  },
  {
   "cell_type": "code",
   "execution_count": 48,
   "id": "0e827acb",
   "metadata": {
    "ExecuteTime": {
     "end_time": "2022-10-26T14:55:38.584219Z",
     "start_time": "2022-10-26T14:55:37.498898Z"
    }
   },
   "outputs": [
    {
     "data": {
      "image/png": "[encoded data removed]",
      "text/plain": [
       "<Figure size 640x480 with 1 Axes>"
      ]
     },
     "metadata": {},
     "output_type": "display_data"
    }
   ],
   "source": [
    "# Draw a line in a diagram from position (0,0) to position (6,250):\n",
    "\n",
    "import matplotlib.pyplot as plt\n",
    "import numpy as np\n",
    "\n",
    "xpoints = np.array([0, 6])\n",
    "ypoints = np.array([0, 250])\n",
    "\n",
    "plt.plot(xpoints, ypoints)\n",
    "plt.show()"
   ]
  },
  {
   "cell_type": "code",
   "execution_count": 49,
   "id": "6464bb1c",
   "metadata": {
    "ExecuteTime": {
     "end_time": "2022-10-26T14:56:44.211313Z",
     "start_time": "2022-10-26T14:56:43.923113Z"
    }
   },
   "outputs": [
    {
     "data": {
      "image/png": "[encoded data removed]",
      "text/plain": [
       "<Figure size 640x480 with 1 Axes>"
      ]
     },
     "metadata": {},
     "output_type": "display_data"
    }
   ],
   "source": [
    "# Draw a line in a diagram from position (1, 3) to position (8, 10):\n",
    "\n",
    "import matplotlib.pyplot as plt\n",
    "import numpy as np\n",
    "\n",
    "xpoints = np.array([1, 8])\n",
    "ypoints = np.array([3, 10])\n",
    "\n",
    "plt.plot(xpoints, ypoints)\n",
    "plt.show()"
   ]
  },
  {
   "cell_type": "markdown",
   "id": "140b6e7a",
   "metadata": {},
   "source": [
    "## Plotting Without Line"
   ]
  },
  {
   "cell_type": "code",
   "execution_count": 50,
   "id": "b701f2ac",
   "metadata": {
    "ExecuteTime": {
     "end_time": "2022-10-26T14:57:38.121392Z",
     "start_time": "2022-10-26T14:57:37.892358Z"
    }
   },
   "outputs": [
    {
     "data": {
      "image/png": "[encoded data removed]",
      "text/plain": [
       "<Figure size 640x480 with 1 Axes>"
      ]
     },
     "metadata": {},
     "output_type": "display_data"
    }
   ],
   "source": [
    "# Draw two points in the diagram, one at position (1, 3) and one in position (8, 10):\n",
    "\n",
    "import matplotlib.pyplot as plt\n",
    "import numpy as np\n",
    "\n",
    "xpoints = np.array([1, 8])\n",
    "ypoints = np.array([3, 10])\n",
    "\n",
    "plt.plot(xpoints, ypoints, 'o')\n",
    "plt.show()"
   ]
  },
  {
   "cell_type": "markdown",
   "id": "994638a0",
   "metadata": {},
   "source": [
    "## Multiple Points"
   ]
  },
  {
   "cell_type": "code",
   "execution_count": 51,
   "id": "a5d2216e",
   "metadata": {
    "ExecuteTime": {
     "end_time": "2022-10-26T14:59:06.988015Z",
     "start_time": "2022-10-26T14:59:06.749327Z"
    }
   },
   "outputs": [
    {
     "data": {
      "image/png": "[encoded data removed]",
      "text/plain": [
       "<Figure size 640x480 with 1 Axes>"
      ]
     },
     "metadata": {},
     "output_type": "display_data"
    }
   ],
   "source": [
    "#Draw a line in a diagram from position (1, 3) to (2, 8) then to (6, 1) and finally to position (8, 10):\n",
    "\n",
    "xpoints = np.array([1, 2, 6, 8])\n",
    "ypoints = np.array([3, 8, 1, 10])\n",
    "\n",
    "plt.plot(xpoints, ypoints)\n",
    "plt.show()"
   ]
  },
  {
   "cell_type": "markdown",
   "id": "05521a68",
   "metadata": {},
   "source": [
    "## Default X-Points"
   ]
  },
  {
   "cell_type": "markdown",
   "id": "5d0fab84",
   "metadata": {},
   "source": [
    "If we do not specify the points in the x-axis, they will get the default values 0, 1, 2, 3, (etc. depending on the length of the y-points."
   ]
  },
  {
   "cell_type": "code",
   "execution_count": 52,
   "id": "fdf050ac",
   "metadata": {
    "ExecuteTime": {
     "end_time": "2022-10-26T15:00:52.093052Z",
     "start_time": "2022-10-26T15:00:51.786023Z"
    }
   },
   "outputs": [
    {
     "data": {
      "image/png": "[encoded data removed]",
      "text/plain": [
       "<Figure size 640x480 with 1 Axes>"
      ]
     },
     "metadata": {},
     "output_type": "display_data"
    }
   ],
   "source": [
    "#Plotting without x-points:\n",
    "\n",
    "import matplotlib.pyplot as plt\n",
    "import numpy as np\n",
    "\n",
    "ypoints = np.array([3, 8, 1, 10, 5, 7])\n",
    "\n",
    "plt.plot(ypoints)\n",
    "plt.show()"
   ]
  },
  {
   "cell_type": "code",
   "execution_count": null,
   "id": "31467b88",
   "metadata": {},
   "outputs": [],
   "source": []
  },
  {
   "cell_type": "code",
   "execution_count": null,
   "id": "04198298",
   "metadata": {},
   "outputs": [],
   "source": []
  },
  {
   "cell_type": "code",
   "execution_count": null,
   "id": "a12a5a20",
   "metadata": {},
   "outputs": [],
   "source": []
  },
  {
   "cell_type": "code",
   "execution_count": null,
   "id": "efb27303",
   "metadata": {},
   "outputs": [],
   "source": []
  },
  {
   "cell_type": "code",
   "execution_count": null,
   "id": "af326159",
   "metadata": {},
   "outputs": [],
   "source": []
  },
  {
   "cell_type": "code",
   "execution_count": null,
   "id": "d43dd5b2",
   "metadata": {},
   "outputs": [],
   "source": []
  },
  {
   "cell_type": "code",
   "execution_count": null,
   "id": "d8ab1007",
   "metadata": {},
   "outputs": [],
   "source": []
  },
  {
   "cell_type": "code",
   "execution_count": null,
   "id": "65386258",
   "metadata": {},
   "outputs": [],
   "source": []
  },
  {
   "cell_type": "code",
   "execution_count": null,
   "id": "14a3c7a0",
   "metadata": {},
   "outputs": [],
   "source": []
  },
  {
   "cell_type": "code",
   "execution_count": null,
   "id": "1fd2f8f4",
   "metadata": {},
   "outputs": [],
   "source": []
  },
  {
   "cell_type": "code",
   "execution_count": null,
   "id": "15b87b47",
   "metadata": {},
   "outputs": [],
   "source": []
  }
 ],
 "metadata": {
  "kernelspec": {
   "display_name": "Python 3 (ipykernel)",
   "language": "python",
   "name": "python3"
  },
  "language_info": {
   "codemirror_mode": {
    "name": "ipython",
    "version": 3
   },
   "file_extension": ".py",
   "mimetype": "text/x-python",
   "name": "python",
   "nbconvert_exporter": "python",
   "pygments_lexer": "ipython3",
   "version": "3.9.13"
  },
  "toc": {
   "base_numbering": 1,
   "nav_menu": {},
   "number_sections": true,
   "sideBar": true,
   "skip_h1_title": false,
   "title_cell": "Table of Contents",
   "title_sidebar": "Contents",
   "toc_cell": false,
   "toc_position": {
    "height": "calc(100% - 180px)",
    "left": "10px",
    "top": "150px",
    "width": "256px"
   },
   "toc_section_display": true,
   "toc_window_display": true
  }
 },
 "nbformat": 4,
 "nbformat_minor": 5
}
